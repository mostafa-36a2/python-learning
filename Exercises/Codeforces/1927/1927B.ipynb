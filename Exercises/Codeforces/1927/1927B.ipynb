{
 "cells": [
  {
   "cell_type": "code",
   "execution_count": null,
   "metadata": {},
   "outputs": [],
   "source": [
    "debug = False\n",
    "from collections import defaultdict\n",
    "\n",
    "def main():\n",
    "    t = int(input())\n",
    "    for _ in range(t):\n",
    "        n = int(input())\n",
    "        a = list(map(int, input().split()))\n",
    "        res = []\n",
    "        d = defaultdict(list)\n",
    "        d[0] = list(\"abcdefghijklmnopqrstuvwxyz\")\n",
    "        for x in a:\n",
    "            c = d[x].pop()\n",
    "            res.append(c)\n",
    "            d[x+1].append(c)\n",
    "        print(\"\".join(res))\n",
    "        # 0 -> new \n",
    "        # 1 give any of the ones\n",
    "        # 2 give any of the twos\n",
    "        \n",
    "\n",
    "main()\n"
   ]
  }
 ],
 "metadata": {
  "language_info": {
   "name": "python"
  }
 },
 "nbformat": 4,
 "nbformat_minor": 2
}
