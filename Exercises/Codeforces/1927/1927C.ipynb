{
 "cells": [
  {
   "cell_type": "code",
   "execution_count": 2,
   "metadata": {},
   "outputs": [],
   "source": [
    "def main():\n",
    "    t = int(input())\n",
    "    for _ in range(t):\n",
    "        n, m, k = list(map(int, input().split()))\n",
    "        ma = map(int, input().split())\n",
    "        mb = map(int, input().split())\n",
    "        a = set()\n",
    "        for c in ma:\n",
    "            if c <= k:\n",
    "                a.add(c)\n",
    "        print(f\"a set: {a}\")\n",
    "        b = set()\n",
    "        # b contains only numbers not in a\n",
    "        for c in mb:\n",
    "            if c <= k:\n",
    "                b.add(c)\n",
    "        print(f\"b set: {b}\")\n",
    "\n",
    "        both_a_and_b = a.union(b)\n",
    "        print(f\"both_a_and_b set: {both_a_and_b}\")\n",
    "\n",
    "        if len(both_a_and_b) < k or len(b) < int(k / 2) or len(a) < int(k / 2):\n",
    "            print(\"NO\")\n",
    "            continue\n",
    "\n",
    "        if len(both_a_and_b) < k:\n",
    "            print(\"NO\")\n",
    "            continue\n",
    "\n",
    "        in_a_not_in_b = a - b  # must get\n",
    "        print(f\"in_a_not_in_b set: {in_a_not_in_b}\")\n",
    "        if len(in_a_not_in_b) > k / 2:\n",
    "            print(\"NO\")\n",
    "            continue\n",
    "\n",
    "        in_b_not_in_a = b - a  # must get\n",
    "        print(f\"in_b_not_in_a set: {in_b_not_in_a}\")\n",
    "        if len(in_b_not_in_a) > k / 2:\n",
    "            print(\"NO\")\n",
    "            continue\n",
    "\n",
    "        # https://www.w3schools.com/python/ref_set_intersection.asp\n",
    "        in_a_and_in_b = a.intersection(b)\n",
    "        print(f\"in_a_and_in_b set: {in_a_and_in_b}\")\n",
    "        tobe_got_from_a = int(k / 2) - len(in_a_not_in_b)\n",
    "        print(f\"tobe_got_from_a:{tobe_got_from_a}\")\n",
    "        tobe_got_from_b = int(k / 2) - len(in_b_not_in_a)\n",
    "        print(f\"tobe_got_from_b:{tobe_got_from_b}\")\n",
    "        if len(in_a_and_in_b) == tobe_got_from_a + tobe_got_from_b:\n",
    "            print(\"YES\")\n",
    "        else:\n",
    "            print(\"NO\")"
   ]
  }
 ],
 "metadata": {
  "kernelspec": {
   "display_name": "Python 3",
   "language": "python",
   "name": "python3"
  },
  "language_info": {
   "codemirror_mode": {
    "name": "ipython",
    "version": 3
   },
   "file_extension": ".py",
   "mimetype": "text/x-python",
   "name": "python",
   "nbconvert_exporter": "python",
   "pygments_lexer": "ipython3",
   "version": "3.11.4"
  }
 },
 "nbformat": 4,
 "nbformat_minor": 2
}
