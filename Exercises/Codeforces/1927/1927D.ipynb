{
 "cells": [
  {
   "cell_type": "code",
   "execution_count": null,
   "metadata": {},
   "outputs": [],
   "source": [
    "t = int(input())\n",
    "for _ in range(t):\n",
    "    array_length = int(input())\n",
    "    a = list(map(int,input().split()))\n",
    "    number_of_queries = int(input())\n",
    "    for _ in range(number_of_queries):\n",
    "        l,r = list(map(int,input().split()))\n",
    "        # output i, j : l<=i < j<=r"
   ]
  }
 ],
 "metadata": {
  "language_info": {
   "name": "python"
  }
 },
 "nbformat": 4,
 "nbformat_minor": 2
}
