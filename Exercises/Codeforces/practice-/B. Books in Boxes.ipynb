{
 "cells": [
  {
   "cell_type": "code",
   "execution_count": 8,
   "metadata": {},
   "outputs": [
    {
     "name": "stdout",
     "output_type": "stream",
     "text": [
      "YES\n",
      "YES\n",
      "NO\n",
      "YES\n"
     ]
    }
   ],
   "source": [
    "t = int(input())\n",
    "for _ in range(t):\n",
    "    a, b, k = list(map(int,input().split()))\n",
    "    if a%10 == b%10 ==k: \n",
    "        print(\"YES\")\n",
    "        continue\n",
    "    \n",
    "    if a%2 != b%2:\n",
    "        print(\"NO\")\n",
    "        continue\n",
    "    \n",
    "    a,b = min(a,b),max(a,b)\n",
    "    \n",
    "    if b < 10:\n",
    "        if a+b == 2*k:\n",
    "            print(\"YES\")\n",
    "        else:\n",
    "            print(\"NO\")\n",
    "        continue\n",
    "    \n",
    "    for i in range(10):\n",
    "        if (a+i)%10 == (b-i)%10 == k:\n",
    "            print(\"YES\")\n",
    "            break\n",
    "    else:\n",
    "        print(\"NO\")    "
   ]
  },
  {
   "cell_type": "code",
   "execution_count": 2,
   "metadata": {},
   "outputs": [
    {
     "data": {
      "text/plain": [
       "(7, 9)"
      ]
     },
     "execution_count": 2,
     "metadata": {},
     "output_type": "execute_result"
    }
   ],
   "source": [
    "a,b = 7,9\n",
    "a,b = min(a,b),max(a,b)\n",
    "a,b"
   ]
  },
  {
   "cell_type": "code",
   "execution_count": 3,
   "metadata": {},
   "outputs": [
    {
     "data": {
      "text/plain": [
       "(55, 99)"
      ]
     },
     "execution_count": 3,
     "metadata": {},
     "output_type": "execute_result"
    }
   ],
   "source": [
    "a,b = 99,55\n",
    "a,b = min(a,b),max(a,b)\n",
    "a,b"
   ]
  }
 ],
 "metadata": {
  "kernelspec": {
   "display_name": "Python 3",
   "language": "python",
   "name": "python3"
  },
  "language_info": {
   "codemirror_mode": {
    "name": "ipython",
    "version": 3
   },
   "file_extension": ".py",
   "mimetype": "text/x-python",
   "name": "python",
   "nbconvert_exporter": "python",
   "pygments_lexer": "ipython3",
   "version": "3.11.4"
  }
 },
 "nbformat": 4,
 "nbformat_minor": 2
}
