{
 "cells": [
  {
   "cell_type": "code",
   "execution_count": 1,
   "metadata": {},
   "outputs": [
    {
     "name": "stdout",
     "output_type": "stream",
     "text": [
      "WWWOOWW\n",
      "RRDD\n",
      "HELLOWORLD\n",
      "HELLOWORLD\n"
     ]
    }
   ],
   "source": [
    "t = int(input())\n",
    "for _ in range(t):\n",
    "    #a, b, k = list(map(int,input().split()))\n",
    "    s= input()\n",
    "    res = \"\"\n",
    "    for i in range(0,len(s),2):\n",
    "        try:\n",
    "            k = int(s[i])\n",
    "            c = s[i+1]\n",
    "        except Exception:\n",
    "            k = int(s[i+1])\n",
    "            c = s[i]\n",
    "        res += c*k\n",
    "    print(res)"
   ]
  }
 ],
 "metadata": {
  "kernelspec": {
   "display_name": "Python 3",
   "language": "python",
   "name": "python3"
  },
  "language_info": {
   "codemirror_mode": {
    "name": "ipython",
    "version": 3
   },
   "file_extension": ".py",
   "mimetype": "text/x-python",
   "name": "python",
   "nbconvert_exporter": "python",
   "pygments_lexer": "ipython3",
   "version": "3.11.4"
  }
 },
 "nbformat": 4,
 "nbformat_minor": 2
}
