{
 "cells": [
  {
   "cell_type": "code",
   "execution_count": 130,
   "metadata": {},
   "outputs": [],
   "source": [
    "def stdin_gen(text):\n",
    "    lines = text.splitlines()\n",
    "    for line in lines:\n",
    "        yield line\n",
    "\n",
    "def set_stdin(text):\n",
    "    global stdin_generator\n",
    "    stdin_generator = stdin_gen(text)\n",
    "    \n",
    "def input() -> str:\n",
    "    return next(stdin_generator)\n",
    "\n",
    "output_text =\"\"\n",
    "def reset_output():\n",
    "    global output_text\n",
    "    output_text = \"\"\n",
    "\n",
    "def print(arg):\n",
    "    global output_text\n",
    "    output_text+=str(arg)+\"\\n\"\n",
    "    \n",
    "def assert_case(case_id, text_in,expected_text_out):\n",
    "    reset_output()\n",
    "    set_stdin(text_in)\n",
    "    main()\n",
    "    if str(expected_text_out).strip(\" \\n\") != str(output_text).strip(\" \\n\"):\n",
    "        sys.stdout.write(f\"XXX Failed at case: {case_id} expected: '{expected_text_out.strip()}'  got :'{output_text.strip()}'\\n\")\n",
    "    else:\n",
    "        sys.stdout.write(f\"Succeeded at case: {case_id}\\n\")"
   ]
  },
  {
   "cell_type": "code",
   "execution_count": 161,
   "metadata": {},
   "outputs": [
    {
     "ename": "StopIteration",
     "evalue": "",
     "output_type": "error",
     "traceback": [
      "\u001b[0;31m---------------------------------------------------------------------------\u001b[0m",
      "\u001b[0;31mStopIteration\u001b[0m                             Traceback (most recent call last)",
      "Cell \u001b[0;32mIn[161], line 32\u001b[0m\n\u001b[1;32m     29\u001b[0m         sys\u001b[38;5;241m.\u001b[39mstdout\u001b[38;5;241m.\u001b[39mwrite(\u001b[38;5;124mf\u001b[39m\u001b[38;5;124m\"\u001b[39m\u001b[38;5;124mBuckets are \u001b[39m\u001b[38;5;132;01m{\u001b[39;00mmy_buckets\u001b[38;5;132;01m}\u001b[39;00m\u001b[38;5;124m\"\u001b[39m)\n\u001b[1;32m     30\u001b[0m     \u001b[38;5;28mprint\u001b[39m(buckets)\n\u001b[0;32m---> 32\u001b[0m \u001b[43mmain\u001b[49m\u001b[43m(\u001b[49m\u001b[43m)\u001b[49m\n",
      "Cell \u001b[0;32mIn[161], line 7\u001b[0m, in \u001b[0;36mmain\u001b[0;34m()\u001b[0m\n\u001b[1;32m      5\u001b[0m \u001b[38;5;28;01mimport\u001b[39;00m \u001b[38;5;21;01mmath\u001b[39;00m\n\u001b[1;32m      6\u001b[0m \u001b[38;5;28;01mpass\u001b[39;00m\u001b[38;5;66;03m#t = int(input())\u001b[39;00m\n\u001b[0;32m----> 7\u001b[0m n,k \u001b[38;5;241m=\u001b[39m \u001b[38;5;28mlist\u001b[39m(\u001b[38;5;28mmap\u001b[39m(\u001b[38;5;28mint\u001b[39m,\u001b[38;5;28;43minput\u001b[39;49m\u001b[43m(\u001b[49m\u001b[43m)\u001b[49m\u001b[38;5;241m.\u001b[39msplit()))\n\u001b[1;32m      8\u001b[0m total_len \u001b[38;5;241m=\u001b[39m \u001b[38;5;241m0\u001b[39m\n\u001b[1;32m      9\u001b[0m curr_bucket \u001b[38;5;241m=\u001b[39m \u001b[38;5;241m0\u001b[39m\n",
      "Cell \u001b[0;32mIn[130], line 11\u001b[0m, in \u001b[0;36minput\u001b[0;34m()\u001b[0m\n\u001b[1;32m     10\u001b[0m \u001b[38;5;28;01mdef\u001b[39;00m \u001b[38;5;21minput\u001b[39m() \u001b[38;5;241m-\u001b[39m\u001b[38;5;241m>\u001b[39m \u001b[38;5;28mstr\u001b[39m:\n\u001b[0;32m---> 11\u001b[0m     \u001b[38;5;28;01mreturn\u001b[39;00m \u001b[38;5;28mnext\u001b[39m(stdin_generator)\n",
      "\u001b[0;31mStopIteration\u001b[0m: "
     ]
    }
   ],
   "source": [
    "debug = False\n",
    "info = False\n",
    "\n",
    "def main():\n",
    "    import math\n",
    "    pass#t = int(input())\n",
    "    n,k = list(map(int,input().split()))\n",
    "    total_len = 0\n",
    "    curr_bucket = 0\n",
    "    buckets = 1\n",
    "    my_buckets = [\"\"]\n",
    "    for i in range(n):\n",
    "        #a, b, k = list(map(int,input().split()))\n",
    "        word = input() \n",
    "        word_len = len(word)\n",
    "        \n",
    "        if curr_bucket + word_len + int(curr_bucket != 0) <= k:\n",
    "            my_buckets[buckets-1]+=(\" \" if int(curr_bucket != 0) else \"\")+word\n",
    "            curr_bucket+= int(curr_bucket != 0) + word_len\n",
    "            if debug:\n",
    "                sys.stdout.write(f\"Add '{word}' (len={word_len}) to bucket[{buckets}] ...\\n\")\n",
    "        else:\n",
    "            if debug:\n",
    "                sys.stdout.write(f\"Open new bucket[{buckets}] and add '{word}' to it ...\\n\")\n",
    "            curr_bucket = word_len\n",
    "            my_buckets.append(word)\n",
    "            buckets += 1\n",
    "    if info:\n",
    "        sys.stdout.write(f\"Buckets are {my_buckets}\")\n",
    "    print(buckets)\n",
    "\n",
    "main()"
   ]
  },
  {
   "cell_type": "code",
   "execution_count": 160,
   "metadata": {},
   "outputs": [
    {
     "name": "stdout",
     "output_type": "stream",
     "text": [
      "Succeeded at case: 0\n",
      "Succeeded at case: 1\n",
      "Succeeded at case: 2\n"
     ]
    }
   ],
   "source": [
    "d = {\"\"\"4 10\n",
    "please\n",
    "buy\n",
    "the\n",
    "cereal\"\"\":\"2\",\n",
    "\"\"\"5 6\n",
    "this\n",
    "is\n",
    "a\n",
    "test\n",
    "letter\"\"\":\"4\",\n",
    "\"\"\"6 200000\n",
    "a\n",
    "very\n",
    "large\n",
    "value\n",
    "of\n",
    "k\"\"\":\"1\"}\n",
    "\n",
    "counter = 0\n",
    "for in_text, out_text  in d.items():\n",
    "    assert_case(counter,in_text,out_text)\n",
    "    counter+=1"
   ]
  }
 ],
 "metadata": {
  "kernelspec": {
   "display_name": "Python 3",
   "language": "python",
   "name": "python3"
  },
  "language_info": {
   "codemirror_mode": {
    "name": "ipython",
    "version": 3
   },
   "file_extension": ".py",
   "mimetype": "text/x-python",
   "name": "python",
   "nbconvert_exporter": "python",
   "pygments_lexer": "ipython3",
   "version": "3.11.4"
  }
 },
 "nbformat": 4,
 "nbformat_minor": 2
}
