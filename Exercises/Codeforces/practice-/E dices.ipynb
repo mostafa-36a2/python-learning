{
 "cells": [
  {
   "cell_type": "code",
   "execution_count": 1,
   "metadata": {},
   "outputs": [],
   "source": [
    "def main():\n",
    "    t = int(input())\n",
    "\n",
    "    for _ in range(t):\n",
    "        n, m = list(map(int, input().split()))\n",
    "        a = list(map(int, input().split()))\n",
    "        b = list(map(int, input().split()))\n",
    "        max_pone = sum(a)\n",
    "        max_ptwo = sum(b)\n",
    "        res = \"\"\n",
    "        if max_pone > m:\n",
    "            player_one_win = \"Y\"\n",
    "        else:\n",
    "            player_one_win = \"N\"\n",
    "\n",
    "        if max_ptwo > n:\n",
    "            player_two_win = \"Y\"\n",
    "        else:\n",
    "            player_two_win = \"N\"\n",
    "\n",
    "        if player_one_win == \"Y\" and player_two_win == \"Y\":\n",
    "            draw = \"Y\"\n",
    "        else:\n",
    "            draw = \"N\"\n",
    "\n",
    "        print(f\"{player_one_win}{draw}{player_two_win}\")\n",
    "\n",
    "\n",
    "#main()\n"
   ]
  }
 ],
 "metadata": {
  "kernelspec": {
   "display_name": "Python 3",
   "language": "python",
   "name": "python3"
  },
  "language_info": {
   "codemirror_mode": {
    "name": "ipython",
    "version": 3
   },
   "file_extension": ".py",
   "mimetype": "text/x-python",
   "name": "python",
   "nbconvert_exporter": "python",
   "pygments_lexer": "ipython3",
   "version": "3.11.4"
  }
 },
 "nbformat": 4,
 "nbformat_minor": 2
}
