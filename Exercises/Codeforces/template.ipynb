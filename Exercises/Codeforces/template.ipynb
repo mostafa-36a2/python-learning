{
 "cells": [
  {
   "cell_type": "code",
   "execution_count": 16,
   "metadata": {},
   "outputs": [],
   "source": [
    "stdin_generator =\"\"\n",
    "output_text =\"\"\n",
    "\n",
    "def stdin_gen(text):\n",
    "    lines = text.splitlines()\n",
    "    for line in lines:\n",
    "        yield line\n",
    "\n",
    "def set_stdin(text):\n",
    "    global stdin_generator\n",
    "    stdin_generator = stdin_gen(text)\n",
    "    \n",
    "def input() -> str:\n",
    "    return next(stdin_generator)\n",
    "\n",
    "\n",
    "def reset_output():\n",
    "    global output_text\n",
    "    output_text = \"\"\n",
    "\n",
    "def print(arg):\n",
    "    global output_text\n",
    "    output_text+=str(arg)+\"\\n\"\n",
    "\n",
    "import sys\n",
    "\n",
    "def assert_case(case_id, text_in,expected_text_out):\n",
    "    reset_output()\n",
    "    set_stdin(text_in)\n",
    "    main()\n",
    "    if str(expected_text_out).strip(\" \\n\") != str(output_text).strip(\" \\n\"):\n",
    "        sys.stdout.write(f\"XXX Failed at case: {case_id} expected: '{expected_text_out.strip()}'  got :'{output_text.strip()}'\\n\")\n",
    "    else:\n",
    "        sys.stdout.write(f\"Succeeded at case: {case_id}\\n\")"
   ]
  },
  {
   "cell_type": "code",
   "execution_count": 1,
   "metadata": {},
   "outputs": [],
   "source": [
    "def main():\n",
    "    t = int(input())\n",
    "\n",
    "    for _ in range(t):\n",
    "        n, m = list(map(int, input().split()))\n",
    "        \n",
    "\n",
    "#main()\n"
   ]
  },
  {
   "cell_type": "code",
   "execution_count": 19,
   "metadata": {},
   "outputs": [
    {
     "name": "stdout",
     "output_type": "stream",
     "text": [
      "Succeeded at case: 0\n"
     ]
    }
   ],
   "source": [
    "d = {\"\"\"3\n",
    "2 3\n",
    "7 4\n",
    "5 6 4\n",
    "1 5\n",
    "4\n",
    "4 6 8 4 5\n",
    "4 3\n",
    "4 4 4 4\n",
    "7 7 7\"\"\":\"\"\"YYY\n",
    "NNY\n",
    "YYY\"\"\"}\n",
    "\n",
    "counter = 0\n",
    "for in_text, out_text  in d.items():\n",
    "    assert_case(counter,in_text,out_text)\n",
    "    counter+=1"
   ]
  }
 ],
 "metadata": {
  "kernelspec": {
   "display_name": "Python 3",
   "language": "python",
   "name": "python3"
  },
  "language_info": {
   "codemirror_mode": {
    "name": "ipython",
    "version": 3
   },
   "file_extension": ".py",
   "mimetype": "text/x-python",
   "name": "python",
   "nbconvert_exporter": "python",
   "pygments_lexer": "ipython3",
   "version": "3.11.4"
  }
 },
 "nbformat": 4,
 "nbformat_minor": 2
}
