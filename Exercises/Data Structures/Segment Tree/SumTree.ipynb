{
 "cells": [
  {
   "cell_type": "code",
   "execution_count": 2,
   "metadata": {},
   "outputs": [],
   "source": [
    "from bisect import bisect_left\n",
    "\n",
    "powers_of_2 = []\n",
    "for i in range(21):\n",
    "    powers_of_2.append(2**i)\n",
    "\n",
    "\n",
    "def get_next_power_of_2(num):\n",
    "    res = bisect_left(powers_of_2, num)\n",
    "    return powers_of_2[res]\n",
    "\n",
    "\n",
    "assert get_next_power_of_2(10) == 16\n",
    "assert get_next_power_of_2(20) == 32\n",
    "assert get_next_power_of_2(50) == 64\n",
    "assert get_next_power_of_2(100) == 128\n",
    "\n",
    "###############\n",
    "\n",
    "\n",
    "class Node:\n",
    "\n",
    "    def __init__(self, l, r, value, left_child, right_child):\n",
    "        self.l = l\n",
    "        self.r = r\n",
    "        self.value = value\n",
    "        self.left_child = left_child\n",
    "        self.right_child = right_child\n",
    "\n",
    "    def __repr__(self):\n",
    "        return f\"[{self.l} -> {self.r}]: {self.value}\"\n",
    "\n",
    "    def __str__(self):\n",
    "        return f\"[{self.l} -> {self.r}]: {self.value}\"\n",
    "\n",
    "\n",
    "################\n",
    "\n",
    "\n",
    "def make_tree(l: list, start, end, symbol=\"*\"):\n",
    "    #print(f\"Make tree {symbol}: {start} {end}\")\n",
    "    if start == end:\n",
    "        return Node(start, end, l[start], None, None)  # Node with no childs\n",
    "    mid = start + get_next_power_of_2((end - start + 1) // 2)\n",
    "    #print(f\"mid:{mid}\")\n",
    "    left_node = make_tree(l, start, mid - 1, \"L\")\n",
    "    right_node = make_tree(l, mid, end, \"R\")\n",
    "\n",
    "    return Node(\n",
    "        start,\n",
    "        end,\n",
    "        left_node.value + right_node.value,\n",
    "        left_node,\n",
    "        right_node,\n",
    "    )\n",
    "\n",
    "\n",
    "ll = [1, 2, 3, 4, 5, 6, 7, 8, 9, 10, 11, 12, 13, 14, 15, 16, 17, 18, 19, 20]\n",
    "tree = make_tree(ll, 0, len(ll) - 1)\n"
   ]
  },
  {
   "cell_type": "code",
   "execution_count": 3,
   "metadata": {},
   "outputs": [
    {
     "data": {
      "text/plain": [
       "[0 -> 15]: 136"
      ]
     },
     "execution_count": 3,
     "metadata": {},
     "output_type": "execute_result"
    }
   ],
   "source": [
    "tree.left_child"
   ]
  },
  {
   "cell_type": "code",
   "execution_count": 4,
   "metadata": {},
   "outputs": [
    {
     "name": "stdout",
     "output_type": "stream",
     "text": [
      "[16 -> 19]: 74\n",
      "[16 -> 17]: 35\n",
      "[18 -> 19]: 39\n",
      "[18 -> 18]: 19\n",
      "[19 -> 19]: 20\n"
     ]
    }
   ],
   "source": [
    "print(tree.right_child)\n",
    "print(tree.right_child.left_child)\n",
    "print(tree.right_child.right_child)\n",
    "print(tree.right_child.right_child.left_child)\n",
    "print(tree.right_child.right_child.right_child)"
   ]
  },
  {
   "cell_type": "code",
   "execution_count": 13,
   "metadata": {},
   "outputs": [
    {
     "name": "stdout",
     "output_type": "stream",
     "text": [
      "[0 -> 19]: 210\n",
      "[0 -> 15]: 136\n",
      "[16 -> 19]: 74\n",
      "[8 -> 15]: 100\n",
      "35\n",
      "[12 -> 15]: 58\n"
     ]
    }
   ],
   "source": [
    "# To sum between 12 and 17, we have to know what is the result that we want to\n",
    "# Get from 12 to 17\n",
    "print(tree)\n",
    "# Get from 12 to 15\n",
    "print(tree.left_child)\n",
    "# Get from 16 to 17\n",
    "print(tree.right_child)\n",
    "# Get from 12 to 15\n",
    "print(tree.left_child.right_child)\n",
    "# Get from 16 to 17\n",
    "print(tree.right_child.left_child.value)# match -> 35\n",
    "# Get from 12 to 15\n",
    "print(tree.left_child.right_child.right_child)# match -> 58"
   ]
  }
 ],
 "metadata": {
  "kernelspec": {
   "display_name": "Python 3",
   "language": "python",
   "name": "python3"
  },
  "language_info": {
   "codemirror_mode": {
    "name": "ipython",
    "version": 3
   },
   "file_extension": ".py",
   "mimetype": "text/x-python",
   "name": "python",
   "nbconvert_exporter": "python",
   "pygments_lexer": "ipython3",
   "version": "3.11.4"
  }
 },
 "nbformat": 4,
 "nbformat_minor": 2
}
