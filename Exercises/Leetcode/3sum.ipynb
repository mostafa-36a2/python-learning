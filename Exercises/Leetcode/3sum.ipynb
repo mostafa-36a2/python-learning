{
 "cells": [
  {
   "cell_type": "code",
   "execution_count": 47,
   "metadata": {},
   "outputs": [
    {
     "data": {
      "text/plain": [
       "[41204, 6323, 5021, 27767, -18684, 89279, 16935, -10093, -9753, -5202]"
      ]
     },
     "execution_count": 47,
     "metadata": {},
     "output_type": "execute_result"
    }
   ],
   "source": [
    "import os\n",
    "dirname = os.path.abspath('')\n",
    "data_file = os.path.join(dirname, \"input-array-3.txt\")\n",
    "data_list = eval(open(data_file,\"r\").read())\n",
    "data_list[:10]"
   ]
  },
  {
   "cell_type": "code",
   "execution_count": 55,
   "metadata": {},
   "outputs": [],
   "source": [
    "\n",
    "from typing import List\n",
    "from bisect import bisect_left\n",
    "\n",
    "class Solution:\n",
    "    def threeSum(self, nums: List[int]) -> List[List[int]]:\n",
    "        nums.sort()\n",
    "        #print(nums)\n",
    "        res = dict()\n",
    "        # 0, 1, 2, 3 ... n-3], n-2, n-1 \n",
    "        i = 0 \n",
    "        while i < len(nums)-2:\n",
    "            if i > 0 and nums[i] == nums[i-1]:\n",
    "                #print(f\"Skip i: nums[{i}] = {nums[i]}\")\n",
    "                i += 1\n",
    "                continue\n",
    "            # i, i+1, i+2, i+3 ... n-3, n-2], n-1 \n",
    "            hi=len(nums)\n",
    "            j = i+1\n",
    "            while j < len(nums)-1:\n",
    "                if j > i+1 and nums[j] == nums[j-1]:\n",
    "                    #print(f\"Skip j: nums[{j}] = {nums[j]}\")\n",
    "                    j += 1\n",
    "                    continue\n",
    "                target = -(nums[i]+nums[j])\n",
    "                r = bisect_left(nums, target, lo=j+1, hi=hi)\n",
    "                if r < len(nums) and target==nums[r]:\n",
    "                    hi = r+1\n",
    "                    res[(nums[i],nums[j],target)] = 1\n",
    "                    #print(nums[i],nums[j],target,r,nums[r])\n",
    "                else:\n",
    "                    pass\n",
    "                    #print(\"Dropped \",nums[i],nums[j],target,r)\n",
    "                j += 1\n",
    "            i += 1\n",
    "            \n",
    "        return list(res.keys())"
   ]
  },
  {
   "cell_type": "code",
   "execution_count": 56,
   "metadata": {},
   "outputs": [
    {
     "data": {
      "text/plain": [
       "[(-4, -2, 6), (-4, 0, 4), (-4, 1, 3), (-4, 2, 2), (-2, -2, 4), (-2, 0, 2)]"
      ]
     },
     "execution_count": 56,
     "metadata": {},
     "output_type": "execute_result"
    }
   ],
   "source": [
    "data_list = [0,0,0]\n",
    "data_list = [-1,0,1,2,-1,-4]\n",
    "data_list = [-2,0,1,1,2]\n",
    "data_list = [-4,-2,-2,-2,0,1,2,2,2,3,3,4,4,6,6]\n",
    "Solution().threeSum(data_list)"
   ]
  },
  {
   "cell_type": "code",
   "execution_count": 123,
   "metadata": {},
   "outputs": [],
   "source": [
    "\n",
    "from typing import List\n",
    "from collections import defaultdict\n",
    "class Solution:\n",
    "    def threeSum(self, nums: List[int]) -> List[List[int]]:\n",
    "        nums.sort()\n",
    "        d = defaultdict(int)\n",
    "        for n in nums:\n",
    "            d[n] += 1\n",
    "        #print(nums)\n",
    "        res = set()\n",
    "        dkeys = list(d.keys())\n",
    "        for n in dkeys:\n",
    "            for m in dkeys:\n",
    "                k = -(n+m)\n",
    "                A = int(k==n)\n",
    "                B = int(k==m)\n",
    "                if d[k] > A+B:\n",
    "                    print(A,B,n,m,k)\n",
    "                    res.add(tuple(sorted([n,m,k])))\n",
    "            \n",
    "        return res"
   ]
  },
  {
   "cell_type": "code",
   "execution_count": 124,
   "metadata": {},
   "outputs": [
    {
     "name": "stdout",
     "output_type": "stream",
     "text": [
      "0 0 -1 -1 2\n",
      "0 0 -1 0 1\n",
      "0 0 -1 1 0\n",
      "1 0 -1 2 -1\n",
      "0 0 0 -1 1\n",
      "0 0 0 1 -1\n",
      "0 0 1 -1 0\n",
      "0 0 1 0 -1\n",
      "0 1 2 -1 -1\n",
      "0 0 2 2 -4\n"
     ]
    },
    {
     "data": {
      "text/plain": [
       "{(-4, 2, 2), (-1, -1, 2), (-1, 0, 1)}"
      ]
     },
     "execution_count": 124,
     "metadata": {},
     "output_type": "execute_result"
    }
   ],
   "source": [
    "#data_list = [0,0,0]\n",
    "data_list = [-1,0,1,2,-1,-4]\n",
    "#data_list = [-2,0,1,1,2]\n",
    "Solution().threeSum(data_list)"
   ]
  },
  {
   "cell_type": "code",
   "execution_count": 67,
   "metadata": {},
   "outputs": [],
   "source": [
    "\n",
    "from typing import List\n",
    "from bisect import bisect_left\n",
    "\n",
    "class Solution:\n",
    "    def threeSum(self, nums: List[int]) -> List[List[int]]:\n",
    "        nums.sort()\n",
    "        #print(nums)\n",
    "        res = dict()\n",
    "        # 0, 1, 2, 3 ... n-3], n-2, n-1 \n",
    "        for i in range(len(nums)-2):\n",
    "            if i > 0 and nums[i] == nums[i-1]:\n",
    "                #print(f\"Skip i: nums[{i}] = {nums[i]}\")\n",
    "                continue\n",
    "            # i, i+1, i+2, i+3 ... n-3, n-2], n-1 \n",
    "            l, r = i+1, len(nums)-1\n",
    "            while l < r:\n",
    "                tsum = nums[i] + nums[l] + nums[r]\n",
    "                \n",
    "                if l > i+1:\n",
    "                    while l<r and nums[l] == nums[l-1]:\n",
    "                        l+=1\n",
    "                if l >= r:\n",
    "                    break\n",
    "                    \n",
    "                if tsum>0:\n",
    "                    r-=1\n",
    "                elif tsum<0:\n",
    "                    l+=1\n",
    "                else:\n",
    "                    res[(nums[i],nums[l],nums[r])]=1\n",
    "                    l+=1\n",
    "            \n",
    "        return list(res.keys())"
   ]
  },
  {
   "cell_type": "code",
   "execution_count": 68,
   "metadata": {},
   "outputs": [
    {
     "data": {
      "text/plain": [
       "[(-4, -2, 6), (-4, 0, 4), (-4, 1, 3), (-4, 2, 2), (-2, -2, 4), (-2, 0, 2)]"
      ]
     },
     "execution_count": 68,
     "metadata": {},
     "output_type": "execute_result"
    }
   ],
   "source": [
    "data_list = [0,0,0]\n",
    "data_list = [-1,0,1,2,-1,-4]\n",
    "data_list = [-2,0,1,1,2]\n",
    "data_list = [-4,-2,-2,-2,0,1,2,2,2,3,3,4,4,6,6]\n",
    "Solution().threeSum(data_list)"
   ]
  }
 ],
 "metadata": {
  "kernelspec": {
   "display_name": "Python 3",
   "language": "python",
   "name": "python3"
  },
  "language_info": {
   "codemirror_mode": {
    "name": "ipython",
    "version": 3
   },
   "file_extension": ".py",
   "mimetype": "text/x-python",
   "name": "python",
   "nbconvert_exporter": "python",
   "pygments_lexer": "ipython3",
   "version": "3.11.4"
  }
 },
 "nbformat": 4,
 "nbformat_minor": 2
}
