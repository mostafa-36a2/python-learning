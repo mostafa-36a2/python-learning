{
 "cells": [
  {
   "cell_type": "code",
   "execution_count": 1,
   "metadata": {},
   "outputs": [],
   "source": [
    "#Definition for singly-linked list.\n",
    "class ListNode:\n",
    "    def __init__(self, val=0, next=None):\n",
    "        self.val = val\n",
    "        self.next = next"
   ]
  },
  {
   "cell_type": "code",
   "execution_count": 2,
   "metadata": {},
   "outputs": [],
   "source": [
    "from typing import Optional\n",
    "def print_linked_list(l1: Optional[ListNode]):\n",
    "    pointer = l1\n",
    "    while pointer is not None:\n",
    "        print(pointer.val)\n",
    "        pointer = pointer.next"
   ]
  },
  {
   "cell_type": "code",
   "execution_count": 11,
   "metadata": {},
   "outputs": [],
   "source": [
    "from typing import Optional\n",
    "\n",
    "class Solution:\n",
    "    def addTwoNumbers(self, l1: Optional[ListNode], l2: Optional[ListNode]) -> Optional[ListNode]:\n",
    "        #print_linked_list(l1)\n",
    "        #print_linked_list(l2)\n",
    "        a = 0\n",
    "        factor = 1\n",
    "        while l1:\n",
    "            a+=l1.val * factor\n",
    "            factor*=10\n",
    "            l1 = l1.next\n",
    "        #print(\"a:\",a)\n",
    "        b = 0\n",
    "        factor=1\n",
    "        while l2:\n",
    "            b+=l2.val*factor\n",
    "            factor*=10\n",
    "            l2 = l2.next\n",
    "        #print(\"b:\",b)\n",
    "        c = a+b\n",
    "        #print(\"c:\",c)\n",
    "        head = ListNode(None, None) \n",
    "        pointer = head\n",
    "        while c>0:\n",
    "            pointer.next = ListNode(c%10,None)\n",
    "            pointer = pointer.next\n",
    "            #print(\"Get \",c%10)\n",
    "            c//=10\n",
    "\n",
    "        if pointer.val is None:\n",
    "            pointer.next = ListNode(0,None)\n",
    "        return head.next"
   ]
  },
  {
   "cell_type": "code",
   "execution_count": 12,
   "metadata": {},
   "outputs": [
    {
     "name": "stdout",
     "output_type": "stream",
     "text": [
      "7\n",
      "0\n",
      "4\n",
      "0\n",
      "1\n"
     ]
    }
   ],
   "source": [
    "\n",
    "#res = Solution().addTwoNumbers(ListNode(2,ListNode(4,ListNode(3))),ListNode(5,ListNode(6,ListNode(4))))\n",
    "res = Solution().addTwoNumbers(ListNode(2,ListNode(4,ListNode(9))),ListNode(5,ListNode(6,ListNode(4,ListNode(9)))))\n",
    "print_linked_list(res)"
   ]
  }
 ],
 "metadata": {
  "kernelspec": {
   "display_name": "Python 3",
   "language": "python",
   "name": "python3"
  },
  "language_info": {
   "codemirror_mode": {
    "name": "ipython",
    "version": 3
   },
   "file_extension": ".py",
   "mimetype": "text/x-python",
   "name": "python",
   "nbconvert_exporter": "python",
   "pygments_lexer": "ipython3",
   "version": "3.11.4"
  }
 },
 "nbformat": 4,
 "nbformat_minor": 2
}
