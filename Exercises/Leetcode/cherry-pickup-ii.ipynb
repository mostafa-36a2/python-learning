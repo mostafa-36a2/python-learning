{
 "cells": [
  {
   "cell_type": "code",
   "execution_count": 32,
   "metadata": {},
   "outputs": [],
   "source": [
    "from functools import cache\n",
    "from typing import List\n",
    "\n",
    "class Solution:\n",
    "    def cherryPickup(self, grid: List[List[int]]) -> int:\n",
    "        last_row = len(grid)-1\n",
    "        last_col = len(grid[0])-1\n",
    "\n",
    "        @cache\n",
    "        def solve(row, col1, col2):\n",
    "            # Result at last row only\n",
    "            if row==last_row:\n",
    "                if col1 != col2:\n",
    "                    return grid[row][col1]+grid[row][col2]\n",
    "                else:\n",
    "                    return grid[row][col1]\n",
    "            else:\n",
    "                # Go to next row with max possibilities\n",
    "                m = -1\n",
    "                # Try all possibilities\n",
    "                for i in (-1,0,1):\n",
    "                    for j in (-1,0,1):\n",
    "                        if 0 <= col1+i <=last_col and 0 <= col2+j <= last_col:\n",
    "                            this_possibility = solve(row+1,col1+i,col2+j)\n",
    "                            m = max(m, this_possibility)\n",
    "                \n",
    "                if col1 != col2:\n",
    "                    return grid[row][col1] + grid[row][col2] + m\n",
    "                else:\n",
    "                    return grid[row][col1] + m\n",
    "                        \n",
    "        return solve(row=0,col1=0,col2=last_col)"
   ]
  },
  {
   "cell_type": "code",
   "execution_count": 33,
   "metadata": {},
   "outputs": [
    {
     "data": {
      "text/plain": [
       "24"
      ]
     },
     "execution_count": 33,
     "metadata": {},
     "output_type": "execute_result"
    }
   ],
   "source": [
    "Solution().cherryPickup([[3,1,1],[2,5,1],[1,5,5],[2,1,1]])"
   ]
  }
 ],
 "metadata": {
  "kernelspec": {
   "display_name": "Python 3",
   "language": "python",
   "name": "python3"
  },
  "language_info": {
   "codemirror_mode": {
    "name": "ipython",
    "version": 3
   },
   "file_extension": ".py",
   "mimetype": "text/x-python",
   "name": "python",
   "nbconvert_exporter": "python",
   "pygments_lexer": "ipython3",
   "version": "3.11.4"
  }
 },
 "nbformat": 4,
 "nbformat_minor": 2
}
