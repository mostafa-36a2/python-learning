{
 "cells": [
  {
   "cell_type": "code",
   "execution_count": null,
   "metadata": {},
   "outputs": [],
   "source": [
    "from typing import List\n",
    "from collections import defaultdict\n",
    "\n",
    "debug = False\n",
    "\n",
    "class Solution:\n",
    "    def mostBooked(self, n: int, meetings: List[List[int]]) -> int:\n",
    "        meetings = sorted(meetings, key=lambda item: item[0])\n",
    "        meeting_room = [0]*n\n",
    "        room_count = defaultdict(int)\n",
    "        max_room_id = 0\n",
    "        # Loop through all meetings\n",
    "        for meeting in meetings:\n",
    "            earlier_room_id = 0\n",
    "            # Check all rooms greedy on the lowed id\n",
    "            for room_id in range(n):\n",
    "                # Start time of current meeting > end_time of this room\n",
    "                if meeting[0] >= meeting_room[room_id]:\n",
    "                    room_count[room_id] +=1\n",
    "                    if debug:print(f\"room_count[{room_id}] = {room_count[room_id]}\")\n",
    "                    if ( room_count[max_room_id] < room_count[room_id] or\n",
    "                            (\n",
    "                                room_count[max_room_id] == room_count[room_id] and\n",
    "                                room_id < max_room_id\n",
    "                            )\n",
    "                    ):\n",
    "                        if debug:print(f\"max_room_id : {room_id} with {room_count[room_id]}\")\n",
    "                        max_room_id = room_id\n",
    "                    # Allocate room_id for current meeting, until the end time\n",
    "                    if debug:print(f\"Getting room {room_id} for meeting {meeting}, ends at {meeting[1]}\")\n",
    "                    meeting_room[room_id] = meeting[1]\n",
    "                    break\n",
    "                elif meeting_room[room_id] < meeting_room[earlier_room_id]:\n",
    "                    earlier_room_id = room_id\n",
    "\n",
    "            else:\n",
    "                if debug:print(f\"{meeting} All meeting room occupied, but earlier ends {earlier_room_id} at {meeting_room[earlier_room_id]}\")\n",
    "                # no break, oh :( no empty room\n",
    "                # Will get the earlier_room_id\n",
    "                room_count[earlier_room_id] +=1\n",
    "                if debug:print(f\"room_count[{earlier_room_id}] = {room_count[earlier_room_id]}\")\n",
    "                if ( room_count[max_room_id] < room_count[earlier_room_id] or\n",
    "                        (\n",
    "                            room_count[max_room_id] == room_count[earlier_room_id] and\n",
    "                            earlier_room_id < max_room_id\n",
    "                        )\n",
    "                ):\n",
    "                    if debug:print(f\"max_room_id : {earlier_room_id} with {room_count[earlier_room_id]}\")\n",
    "                    max_room_id = earlier_room_id\n",
    "                # Calculate the difference of start time\n",
    "                diff = meeting_room[earlier_room_id] - meeting[0]\n",
    "                # Allocate room_id for current meeting, until the end time\n",
    "                meeting_room[earlier_room_id] = meeting[1]+diff\n",
    "        return max_room_id"
   ]
  },
  {
   "cell_type": "code",
   "execution_count": 67,
   "metadata": {},
   "outputs": [],
   "source": [
    "from typing import List\n",
    "import heapq\n",
    "class Solution:\n",
    "                \n",
    "    def mostBooked(self, n: int, meetings: List[List[int]]) -> int:\n",
    "        meetings = sorted(meetings, key=lambda item: item[0])\n",
    "        \n",
    "        heap = []\n",
    "        for room_id in range(n):\n",
    "            heapq.heappush(heap, (0,room_id))\n",
    "        \n",
    "        max_count = 0\n",
    "        room_count = [0]*n\n",
    "        \n",
    "        for curr_meeting in meetings:\n",
    "            #print(curr_meeting, heap)\n",
    "            while heap[0][0] < curr_meeting[0]:\n",
    "                item = heapq.heappop(heap)\n",
    "                item = heapq.heappush(heap,(curr_meeting[0],item[1]))\n",
    "\n",
    "            item = heapq.heappop(heap)\n",
    "            \n",
    "            diff = max(0, item[0] - curr_meeting[0])\n",
    "            \n",
    "            room_count[item[1]] +=1\n",
    "            if room_count[item[1]] >= max_count:\n",
    "                max_count = room_count[item[1]]\n",
    "\n",
    "            heapq.heappush(heap, (curr_meeting[1] + diff, item[1]) )\n",
    "        \n",
    "        for i, v in enumerate(room_count):\n",
    "            if v == max_count:\n",
    "                return i"
   ]
  },
  {
   "cell_type": "code",
   "execution_count": 68,
   "metadata": {},
   "outputs": [
    {
     "data": {
      "text/plain": [
       "1"
      ]
     },
     "execution_count": 68,
     "metadata": {},
     "output_type": "execute_result"
    }
   ],
   "source": [
    "Solution().mostBooked(3, [[1,20],[2,10],[3,5],[4,9],[6,8]])\n",
    "#Solution().mostBooked(2, [[0,10],[1,5],[2,7],[3,4]])\n",
    "#Solution().mostBooked(2, [[10,11],[2,10],[1,17],[9,13],[18,20]])\n",
    "#Solution().mostBooked(4, [[18,19],[3,12],[17,19],[2,13],[7,10]])"
   ]
  }
 ],
 "metadata": {
  "kernelspec": {
   "display_name": "Python 3",
   "language": "python",
   "name": "python3"
  },
  "language_info": {
   "codemirror_mode": {
    "name": "ipython",
    "version": 3
   },
   "file_extension": ".py",
   "mimetype": "text/x-python",
   "name": "python",
   "nbconvert_exporter": "python",
   "pygments_lexer": "ipython3",
   "version": "3.11.4"
  }
 },
 "nbformat": 4,
 "nbformat_minor": 2
}
