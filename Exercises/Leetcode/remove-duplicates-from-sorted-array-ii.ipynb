{
 "cells": [
  {
   "cell_type": "code",
   "execution_count": 62,
   "metadata": {},
   "outputs": [],
   "source": [
    "from typing import List\n",
    "from bisect import bisect_right\n",
    "# [0,0,1,1,1,1,2,3,3]\n",
    "# [1,1,1,2,2,3]\n",
    "res = 0\n",
    "\n",
    "class Solution:\n",
    "    def removeDuplicates(self, nums: List[int]) -> int:\n",
    "        left = 0\n",
    "        right = 0\n",
    "        last = nums[0]\n",
    "        count_last = 0\n",
    "        L = len(nums)\n",
    "        # 1 1 1 1 1 1 1 1 2 2 3\n",
    "        while right < L:\n",
    "            if last == nums[right]:\n",
    "                if count_last < 2:\n",
    "                    nums[left] = nums[right]\n",
    "                    left += 1\n",
    "                    right += 1\n",
    "                    count_last += 1\n",
    "                else:\n",
    "                    while right < L and last == nums[right]:\n",
    "                        right += 1\n",
    "                    if right < L:\n",
    "                        last = nums[right]\n",
    "                        nums[left] = nums[right]\n",
    "                        left+=1\n",
    "                        right+=1\n",
    "                        count_last = 1\n",
    "            else:\n",
    "                # reset\n",
    "                last = nums[right]\n",
    "                nums[left] = nums[right]\n",
    "                left += 1\n",
    "                right += 1\n",
    "                count_last = 1\n",
    "                \n",
    "        return left"
   ]
  },
  {
   "cell_type": "code",
   "execution_count": 63,
   "metadata": {},
   "outputs": [],
   "source": [
    "try:\n",
    "    assert Solution().removeDuplicates([1]) == 1\n",
    "    assert Solution().removeDuplicates([1,2]) == 2\n",
    "    assert Solution().removeDuplicates([1,1]) == 2\n",
    "    assert Solution().removeDuplicates([1,1,1]) == 2\n",
    "    assert Solution().removeDuplicates([1,1,2]) == 3\n",
    "    assert Solution().removeDuplicates([1,2,2]) == 3\n",
    "    assert Solution().removeDuplicates([1,2,3]) == 3\n",
    "    assert Solution().removeDuplicates([1,1,1,1,1,1,1,1,1,1,1]) == 2\n",
    "    assert Solution().removeDuplicates([1,1,1,1,1,1,1,1,1,1,1,1,1,1,1]) == 2\n",
    "    assert Solution().removeDuplicates([1,2,3,4,5,6]) == 6\n",
    "    assert Solution().removeDuplicates([1,2,3,4,5,6,7,8,9,10,11,12,13]) == 13\n",
    "    assert Solution().removeDuplicates([1,1,1,1,1,1,1,1,1,1,2]) == 3\n",
    "    #Solution().removeDuplicates([1,1,1,1,1,1,2,2,2,2,2,3])\n",
    "except Exception as e:\n",
    "    print(f\"Failed {e} last res = {res}\")"
   ]
  }
 ],
 "metadata": {
  "kernelspec": {
   "display_name": "Python 3",
   "language": "python",
   "name": "python3"
  },
  "language_info": {
   "codemirror_mode": {
    "name": "ipython",
    "version": 3
   },
   "file_extension": ".py",
   "mimetype": "text/x-python",
   "name": "python",
   "nbconvert_exporter": "python",
   "pygments_lexer": "ipython3",
   "version": "3.11.4"
  }
 },
 "nbformat": 4,
 "nbformat_minor": 2
}
