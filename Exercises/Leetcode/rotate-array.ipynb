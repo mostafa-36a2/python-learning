{
 "cells": [
  {
   "cell_type": "code",
   "execution_count": 2,
   "metadata": {},
   "outputs": [],
   "source": [
    "from typing import List\n",
    "\n",
    "class Solution:\n",
    "    def rotate(self, nums: List[int], k: int) -> None:\n",
    "        \"\"\"\n",
    "        Do not return anything, modify nums in-place instead.\n",
    "        \"\"\"\n",
    "        k = k % len(nums)\n",
    "        a = nums[len(nums)-k:]\n",
    "        nums[k:] = nums[0:len(nums)-k]\n",
    "        nums[:k] = a[:]\n",
    "        print(nums)"
   ]
  },
  {
   "cell_type": "code",
   "execution_count": 5,
   "metadata": {},
   "outputs": [
    {
     "ename": "IndexError",
     "evalue": "list index out of range",
     "output_type": "error",
     "traceback": [
      "\u001b[0;31m---------------------------------------------------------------------------\u001b[0m",
      "\u001b[0;31mIndexError\u001b[0m                                Traceback (most recent call last)",
      "Cell \u001b[0;32mIn[5], line 1\u001b[0m\n\u001b[0;32m----> 1\u001b[0m \u001b[43mSolution\u001b[49m\u001b[43m(\u001b[49m\u001b[43m)\u001b[49m\u001b[38;5;241;43m.\u001b[39;49m\u001b[43mrotate\u001b[49m\u001b[43m(\u001b[49m\u001b[43m[\u001b[49m\u001b[38;5;241;43m1\u001b[39;49m\u001b[43m,\u001b[49m\u001b[38;5;241;43m2\u001b[39;49m\u001b[43m,\u001b[49m\u001b[38;5;241;43m3\u001b[39;49m\u001b[43m,\u001b[49m\u001b[38;5;241;43m4\u001b[39;49m\u001b[43m,\u001b[49m\u001b[38;5;241;43m5\u001b[39;49m\u001b[43m,\u001b[49m\u001b[38;5;241;43m6\u001b[39;49m\u001b[43m,\u001b[49m\u001b[38;5;241;43m7\u001b[39;49m\u001b[43m]\u001b[49m\u001b[43m,\u001b[49m\u001b[38;5;241;43m3\u001b[39;49m\u001b[43m)\u001b[49m\n",
      "Cell \u001b[0;32mIn[4], line 10\u001b[0m, in \u001b[0;36mSolution.rotate\u001b[0;34m(self, nums, k)\u001b[0m\n\u001b[1;32m      8\u001b[0m k \u001b[38;5;241m=\u001b[39m k \u001b[38;5;241m%\u001b[39m \u001b[38;5;28mlen\u001b[39m(nums)\n\u001b[1;32m      9\u001b[0m \u001b[38;5;28;01mfor\u001b[39;00m i \u001b[38;5;129;01min\u001b[39;00m \u001b[38;5;28mrange\u001b[39m(\u001b[38;5;28mlen\u001b[39m(nums),\u001b[38;5;28mlen\u001b[39m(nums)\u001b[38;5;241m-\u001b[39mk\u001b[38;5;241m-\u001b[39m\u001b[38;5;241m1\u001b[39m,\u001b[38;5;241m-\u001b[39m\u001b[38;5;241m1\u001b[39m):\n\u001b[0;32m---> 10\u001b[0m     \u001b[38;5;28mprint\u001b[39m(\u001b[43mnums\u001b[49m\u001b[43m[\u001b[49m\u001b[43mi\u001b[49m\u001b[43m]\u001b[49m)\n",
      "\u001b[0;31mIndexError\u001b[0m: list index out of range"
     ]
    }
   ],
   "source": [
    "Solution().rotate([1,2,3,4,5,6,7],3)"
   ]
  },
  {
   "cell_type": "code",
   "execution_count": 80,
   "metadata": {},
   "outputs": [
    {
     "name": "stdout",
     "output_type": "stream",
     "text": [
      "[9, 8, 7, 6, 5, 4, 3, 2, 1, 0]\n",
      "[7, 7, 6, 5, 4, 4, 3, 3, 2, 1]\n",
      "[7, 7, 6, 5, 'b', 'a', 3, 3, 2, 1]\n",
      "[7, 7, 6, 5, 'b', 'c', 'a', 3, 3, 2, 1]\n",
      "[1, 'c', 'a', 3, 3, 2, 'b', 5, 6, 7, 7]\n"
     ]
    }
   ],
   "source": [
    "from typing import List\n",
    "\n",
    "def reverse(arr, first, last):\n",
    "    counter = 0\n",
    "    for i in range(first, first + (last-first) + 1):\n",
    "        if last-counter <= i:\n",
    "            break\n",
    "        arr[i], arr[last-counter] = arr[last-counter], arr[i]\n",
    "        counter += 1\n",
    "\n",
    "a = [0,1,2,3,4,5,6,7,8,9]\n",
    "reverse(a,0,len(a)-1)\n",
    "print(a) \n",
    "a = [1,2,3,3,4,4,5,6,7,7]\n",
    "reverse(a,0,len(a)-1)\n",
    "print(a) \n",
    "a = [1,2,3,3,'a','b',5,6,7,7]\n",
    "reverse(a,0,len(a)-1)\n",
    "print(a) \n",
    "a = [1,2,3,3,'a','c','b',5,6,7,7]\n",
    "reverse(a,0,len(a)-1)\n",
    "print(a) \n",
    "\n",
    "a = [1,2,3,3,'a','c','b',5,6,7,7]\n",
    "reverse(a,1,5)\n",
    "print(a) \n"
   ]
  },
  {
   "cell_type": "code",
   "execution_count": 81,
   "metadata": {},
   "outputs": [],
   "source": [
    "\n",
    "class Solution:\n",
    "    def rotate(self, nums: List[int], k: int) -> None:\n",
    "        \"\"\"\n",
    "        Do not return anything, modify nums in-place instead.\n",
    "        \"\"\"\n",
    "        k = k % len(nums)\n",
    "        reverse(nums,0,len(nums)-1)\n",
    "        reverse(nums,0,k-1)\n",
    "        reverse(nums,k,len(nums)-1)"
   ]
  },
  {
   "cell_type": "code",
   "execution_count": 83,
   "metadata": {},
   "outputs": [
    {
     "name": "stdout",
     "output_type": "stream",
     "text": [
      "[15, 14, 13, 12, 11, 10, 9, 8, 7, 6, 5, 4, 3, 2, 1]\n",
      "[9, 10, 11, 12, 13, 14, 15, 8, 7, 6, 5, 4, 3, 2, 1]\n",
      "[9, 10, 11, 12, 13, 14, 15, 1, 2, 3, 4, 5, 6, 7, 8]\n"
     ]
    }
   ],
   "source": [
    "#Solution().rotate([1,2,3,4,5,6,7,8,9,10,11,12,13,14,15],3)\n",
    "Solution().rotate([1,2,3,4,5,6,7,8,9,10,11,12,13,14,15],7)"
   ]
  }
 ],
 "metadata": {
  "kernelspec": {
   "display_name": "Python 3",
   "language": "python",
   "name": "python3"
  },
  "language_info": {
   "codemirror_mode": {
    "name": "ipython",
    "version": 3
   },
   "file_extension": ".py",
   "mimetype": "text/x-python",
   "name": "python",
   "nbconvert_exporter": "python",
   "pygments_lexer": "ipython3",
   "version": "3.11.4"
  }
 },
 "nbformat": 4,
 "nbformat_minor": 2
}
