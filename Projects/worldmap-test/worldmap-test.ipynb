{
 "cells": [
  {
   "cell_type": "code",
   "execution_count": 7,
   "metadata": {},
   "outputs": [],
   "source": [
    "from pygal_maps_world.maps import World\n",
    "import pygal\n",
    "\n",
    "worldmap = World()\n",
    "\n",
    "# Set the title\n",
    "worldmap.title = 'World Map'\n",
    "\n",
    "# Customize the style of the map\n",
    "worldmap.style = pygal.style.LightColorizedStyle\n",
    "\n",
    "# Add data to the map (optional)\n",
    "worldmap.add('Sample Data', {'af': 1,\n",
    "                             'cn': 2,\n",
    "                             'in': 3,\n",
    "                             'us': 4,\n",
    "                             'sa': 15,\n",
    "                             'ca': 5,\n",
    "                             'sy': 5,\n",
    "                             'eg': 7})\n",
    "\n",
    "# Render the map to an SVG file\n",
    "worldmap.render_to_file('world_map.svg')"
   ]
  }
 ],
 "metadata": {
  "kernelspec": {
   "display_name": "Python 3",
   "language": "python",
   "name": "python3"
  },
  "language_info": {
   "codemirror_mode": {
    "name": "ipython",
    "version": 3
   },
   "file_extension": ".py",
   "mimetype": "text/x-python",
   "name": "python",
   "nbconvert_exporter": "python",
   "pygments_lexer": "ipython3",
   "version": "3.11.4"
  },
  "orig_nbformat": 4
 },
 "nbformat": 4,
 "nbformat_minor": 2
}
