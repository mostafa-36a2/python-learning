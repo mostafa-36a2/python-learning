{
 "cells": [
  {
   "cell_type": "code",
   "execution_count": 31,
   "metadata": {},
   "outputs": [
    {
     "name": "stdout",
     "output_type": "stream",
     "text": [
      "123 Test False\n"
     ]
    }
   ],
   "source": [
    "from typing import overload\n",
    "\n",
    "\n",
    "@overload\n",
    "def foo(address, title, name):...\n",
    "\n",
    "@overload\n",
    "def foo(title,name):...\n",
    "\n",
    "@overload\n",
    "def foo(name):...\n",
    "\n",
    "from functools import singledispatch\n",
    "\n",
    "@singledispatch\n",
    "def foo(address:str, title:int, name:str):\n",
    "    ...\n",
    "\n",
    "@foo.register\n",
    "def _(address:bool, title:str, name:str):\n",
    "    print(name,title,address)\n",
    "    \n",
    "@foo.register\n",
    "def _(name:str):\n",
    "    print(f\"Nice {name}\")\n",
    "\n",
    "@foo.register\n",
    "def _(title:int, name:str):\n",
    "    print(f\"Nice {name}, and title: {title}\")\n",
    "    \n",
    "foo(False,\"Test\",\"123\")"
   ]
  },
  {
   "cell_type": "markdown",
   "metadata": {},
   "source": []
  }
 ],
 "metadata": {
  "kernelspec": {
   "display_name": "Python 3",
   "language": "python",
   "name": "python3"
  },
  "language_info": {
   "codemirror_mode": {
    "name": "ipython",
    "version": 3
   },
   "file_extension": ".py",
   "mimetype": "text/x-python",
   "name": "python",
   "nbconvert_exporter": "python",
   "pygments_lexer": "ipython3",
   "version": "3.11.4"
  }
 },
 "nbformat": 4,
 "nbformat_minor": 2
}
