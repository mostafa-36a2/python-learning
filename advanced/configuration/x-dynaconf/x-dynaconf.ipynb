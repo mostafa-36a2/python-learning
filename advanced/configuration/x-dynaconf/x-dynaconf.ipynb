{
 "cells": [
  {
   "cell_type": "code",
   "execution_count": 1,
   "metadata": {},
   "outputs": [],
   "source": [
    "from dynaconf import Dynaconf\n",
    "\n",
    "# The main structure and the default values\n",
    "transfer_conf = Dynaconf(\n",
    "    envvar_prefix = \"DYNACONF\",\n",
    "    ignore_unknown_envvars=True, # only previously defined variables\n",
    "    store_step_enabled=True,\n",
    "    duplicte_check_enabled=True,\n",
    "    process_trn_enabled=True,\n",
    "    dch_checks={\n",
    "        \"extract_sender_dch\": True,\n",
    "        \"default_sender_dch\": \"TESTING\",\n",
    "        \"extract_recipient_dch\": True,\n",
    "        \"default_recipient_dch\": \"TESTING\",\n",
    "    },\n",
    "    name_checks={\"check_blocked_list\": True},\n",
    "    rtdr_integrated=True,\n",
    "    check_step={\"check_in_dch\": True, \"check_out_dch\": True},\n",
    "    finalize_step={\n",
    "        \"insert_reported_file_info_to_db\": True,\n",
    "        \"insert_transferred_file_info_to_db\": True,\n",
    "        \"update_nrt_transfer_time\": True,\n",
    "        \"remove_file_at_end\": True,\n",
    "    },\n",
    ")\n"
   ]
  },
  {
   "cell_type": "code",
   "execution_count": 40,
   "metadata": {},
   "outputs": [
    {
     "data": {
      "text/plain": [
       "False"
      ]
     },
     "execution_count": 40,
     "metadata": {},
     "output_type": "execute_result"
    }
   ],
   "source": [
    "transfer_conf.store_step_enabled"
   ]
  },
  {
   "cell_type": "code",
   "execution_count": 30,
   "metadata": {},
   "outputs": [],
   "source": [
    "import os\n",
    "\n",
    "# Any environment variable can override\n",
    "# general\n",
    "os.environ[\"DYNACONF_STORE_STEP_ENABLED\"] = \"false\"\n",
    "os.environ[\"DYNACONF_DUPLICTE_CHECK_ENABLED\"] = \"false\"\n",
    "os.environ[\"DYNACONF_PROCESS_TRN_ENABLED\"] = \"false\"\n",
    "# dch_checks\n",
    "os.environ[\"DYNACONF_dch_checks__EXTRACT_SENDER_DCH\"] = \"false\"\n",
    "os.environ[\"DYNACONF_dch_checks__DEFAULT_SENDER_DCH\"] = \"checkingvalue\"\n",
    "os.environ[\"DYNACONF_dch_checks__EXTRACT_RECIPIENT_DCH\"] = \"false\"\n",
    "os.environ[\"DYNACONF_dch_checks__DEFAULT_RECIPIENT_DCH\"] = \"helloworld\"\n",
    "# name checks\n",
    "os.environ[\"DYNACONF_NAME_CHECKS__CHECK_BLOCKED_LIST\"] = \"false\"\n",
    "os.environ[\"DYNACONF_RTDR_INTEGRATED\"] = \"false\"\n",
    "# check step\n",
    "os.environ[\"DYNACONF_CHECK_STEP__CHECK_IN_DCH\"] = \"false\"\n",
    "os.environ[\"DYNACONF_CHECK_STEP__CHECK_OUT_DCH\"] = \"false\"\n",
    "\n",
    "os.environ[\"DYNACONF_FINALIZE_STEP__INSERT_REPORTED_FILE_INFO_TO_DB\"]=\"false\"\n",
    "os.environ[\"DYNACONF_FINALIZE_STEP__INSERT_TRANSFERRED_FILE_INFO_TO_DB\"]=\"false\"\n",
    "os.environ[\"DYNACONF_FINALIZE_STEP__UPDATE_NRT_TRANSFER_TIME\"]=\"false\"\n",
    "os.environ[\"DYNACONF_FINALIZE_STEP__REMOVE_FILE_AT_END\"]=\"false\"\n",
    "# \n"
   ]
  },
  {
   "cell_type": "code",
   "execution_count": 2,
   "metadata": {},
   "outputs": [],
   "source": [
    "import os\n",
    "\n",
    "os.environ[\"DCHROAMKIT_X\"] = \"1\"\n",
    "os.environ[\"DCHROAMKIT_Y\"] = \"varY\"\n",
    "# Re call the constructor"
   ]
  },
  {
   "cell_type": "code",
   "execution_count": 49,
   "metadata": {},
   "outputs": [
    {
     "ename": "AttributeError",
     "evalue": "'Settings' object has no attribute 'X'",
     "output_type": "error",
     "traceback": [
      "\u001b[0;31m---------------------------------------------------------------------------\u001b[0m",
      "\u001b[0;31mAttributeError\u001b[0m                            Traceback (most recent call last)",
      "Cell \u001b[0;32mIn[49], line 1\u001b[0m\n\u001b[0;32m----> 1\u001b[0m \u001b[43mtransfer_conf\u001b[49m\u001b[38;5;241;43m.\u001b[39;49m\u001b[43mx\u001b[49m\n",
      "File \u001b[0;32m~/.local/lib/python3.11/site-packages/dynaconf/base.py:145\u001b[0m, in \u001b[0;36mLazySettings.__getattr__\u001b[0;34m(self, name)\u001b[0m\n\u001b[1;32m    136\u001b[0m \u001b[38;5;28;01mif\u001b[39;00m (\n\u001b[1;32m    137\u001b[0m     name\u001b[38;5;241m.\u001b[39misupper()\n\u001b[1;32m    138\u001b[0m     \u001b[38;5;129;01mand\u001b[39;00m (\n\u001b[0;32m   (...)\u001b[0m\n\u001b[1;32m    142\u001b[0m     \u001b[38;5;129;01mand\u001b[39;00m name \u001b[38;5;129;01mnot\u001b[39;00m \u001b[38;5;129;01min\u001b[39;00m UPPER_DEFAULT_SETTINGS\n\u001b[1;32m    143\u001b[0m ):\n\u001b[1;32m    144\u001b[0m     \u001b[38;5;28;01mreturn\u001b[39;00m \u001b[38;5;28mself\u001b[39m\u001b[38;5;241m.\u001b[39m_wrapped\u001b[38;5;241m.\u001b[39mget_fresh(name)\n\u001b[0;32m--> 145\u001b[0m value \u001b[38;5;241m=\u001b[39m \u001b[38;5;28mgetattr\u001b[39m(\u001b[38;5;28mself\u001b[39m\u001b[38;5;241m.\u001b[39m_wrapped, name)\n\u001b[1;32m    146\u001b[0m \u001b[38;5;28;01mif\u001b[39;00m name \u001b[38;5;129;01mnot\u001b[39;00m \u001b[38;5;129;01min\u001b[39;00m RESERVED_ATTRS:\n\u001b[1;32m    147\u001b[0m     \u001b[38;5;28;01mreturn\u001b[39;00m recursively_evaluate_lazy_format(value, \u001b[38;5;28mself\u001b[39m)\n",
      "File \u001b[0;32m~/.local/lib/python3.11/site-packages/dynaconf/base.py:328\u001b[0m, in \u001b[0;36mSettings.__getattribute__\u001b[0;34m(self, name)\u001b[0m\n\u001b[1;32m    326\u001b[0m value \u001b[38;5;241m=\u001b[39m \u001b[38;5;28mself\u001b[39m\u001b[38;5;241m.\u001b[39mget(name, default\u001b[38;5;241m=\u001b[39mempty)\n\u001b[1;32m    327\u001b[0m \u001b[38;5;28;01mif\u001b[39;00m value \u001b[38;5;129;01mis\u001b[39;00m empty:\n\u001b[0;32m--> 328\u001b[0m     \u001b[38;5;28;01mreturn\u001b[39;00m \u001b[38;5;28;43msuper\u001b[39;49m\u001b[43m(\u001b[49m\u001b[43m)\u001b[49m\u001b[38;5;241;43m.\u001b[39;49m\u001b[38;5;21;43m__getattribute__\u001b[39;49m\u001b[43m(\u001b[49m\u001b[43mname\u001b[49m\u001b[43m)\u001b[49m\n\u001b[1;32m    330\u001b[0m \u001b[38;5;28;01mreturn\u001b[39;00m value\n",
      "\u001b[0;31mAttributeError\u001b[0m: 'Settings' object has no attribute 'X'"
     ]
    }
   ],
   "source": [
    "transfer_conf.x"
   ]
  },
  {
   "cell_type": "code",
   "execution_count": 38,
   "metadata": {},
   "outputs": [],
   "source": [
    "from dynaconf import add_converter\n",
    "add_converter(\"list\", list)\n",
    "os.environ[\"DYNACONF_RANDOMVAR\"] = \"@list test\"\n",
    "# Re call the constructor"
   ]
  },
  {
   "cell_type": "code",
   "execution_count": 52,
   "metadata": {},
   "outputs": [
    {
     "data": {
      "text/plain": [
       "['t', 'e', 's', 't']"
      ]
     },
     "execution_count": 52,
     "metadata": {},
     "output_type": "execute_result"
    }
   ],
   "source": [
    "#transfer_conf.dch_checks.default_sender_dch\n",
    "transfer_conf.randomvar"
   ]
  },
  {
   "cell_type": "code",
   "execution_count": 3,
   "metadata": {},
   "outputs": [
    {
     "ename": "ValidationError",
     "evalue": "token is required in env main",
     "output_type": "error",
     "traceback": [
      "\u001b[0;31m---------------------------------------------------------------------------\u001b[0m",
      "\u001b[0;31mValidationError\u001b[0m                           Traceback (most recent call last)",
      "Cell \u001b[0;32mIn[3], line 8\u001b[0m\n\u001b[1;32m      1\u001b[0m \u001b[38;5;28;01mfrom\u001b[39;00m \u001b[38;5;21;01mdynaconf\u001b[39;00m \u001b[38;5;28;01mimport\u001b[39;00m Dynaconf, Validator\n\u001b[1;32m      3\u001b[0m transfer_conf\u001b[38;5;241m.\u001b[39mvalidators\u001b[38;5;241m.\u001b[39mregister(\n\u001b[1;32m      4\u001b[0m     Validator(\u001b[38;5;124m\"\u001b[39m\u001b[38;5;124mtoken\u001b[39m\u001b[38;5;124m\"\u001b[39m, must_exist\u001b[38;5;241m=\u001b[39m\u001b[38;5;28;01mTrue\u001b[39;00m),\n\u001b[1;32m      5\u001b[0m     Validator(\u001b[38;5;124m\"\u001b[39m\u001b[38;5;124mtest_token\u001b[39m\u001b[38;5;124m\"\u001b[39m, must_exist\u001b[38;5;241m=\u001b[39m\u001b[38;5;28;01mTrue\u001b[39;00m),\n\u001b[1;32m      6\u001b[0m )\n\u001b[0;32m----> 8\u001b[0m \u001b[43mtransfer_conf\u001b[49m\u001b[38;5;241;43m.\u001b[39;49m\u001b[43mvalidators\u001b[49m\u001b[38;5;241;43m.\u001b[39;49m\u001b[43mvalidate\u001b[49m\u001b[43m(\u001b[49m\u001b[43m)\u001b[49m\n",
      "File \u001b[0;32m~/.local/lib/python3.11/site-packages/dynaconf/validator.py:492\u001b[0m, in \u001b[0;36mValidatorList.validate\u001b[0;34m(self, only, exclude, only_current_env)\u001b[0m\n\u001b[1;32m    485\u001b[0m \u001b[38;5;28;01mdef\u001b[39;00m \u001b[38;5;21mvalidate\u001b[39m(\n\u001b[1;32m    486\u001b[0m     \u001b[38;5;28mself\u001b[39m,\n\u001b[1;32m    487\u001b[0m     only: \u001b[38;5;28mstr\u001b[39m \u001b[38;5;241m|\u001b[39m Sequence \u001b[38;5;241m|\u001b[39m \u001b[38;5;28;01mNone\u001b[39;00m \u001b[38;5;241m=\u001b[39m \u001b[38;5;28;01mNone\u001b[39;00m,\n\u001b[1;32m    488\u001b[0m     exclude: \u001b[38;5;28mstr\u001b[39m \u001b[38;5;241m|\u001b[39m Sequence \u001b[38;5;241m|\u001b[39m \u001b[38;5;28;01mNone\u001b[39;00m \u001b[38;5;241m=\u001b[39m \u001b[38;5;28;01mNone\u001b[39;00m,\n\u001b[1;32m    489\u001b[0m     only_current_env: \u001b[38;5;28mbool\u001b[39m \u001b[38;5;241m=\u001b[39m \u001b[38;5;28;01mFalse\u001b[39;00m,\n\u001b[1;32m    490\u001b[0m ) \u001b[38;5;241m-\u001b[39m\u001b[38;5;241m>\u001b[39m \u001b[38;5;28;01mNone\u001b[39;00m:\n\u001b[1;32m    491\u001b[0m     \u001b[38;5;28;01mfor\u001b[39;00m validator \u001b[38;5;129;01min\u001b[39;00m \u001b[38;5;28mself\u001b[39m:\n\u001b[0;32m--> 492\u001b[0m         \u001b[43mvalidator\u001b[49m\u001b[38;5;241;43m.\u001b[39;49m\u001b[43mvalidate\u001b[49m\u001b[43m(\u001b[49m\n\u001b[1;32m    493\u001b[0m \u001b[43m            \u001b[49m\u001b[38;5;28;43mself\u001b[39;49m\u001b[38;5;241;43m.\u001b[39;49m\u001b[43msettings\u001b[49m\u001b[43m,\u001b[49m\n\u001b[1;32m    494\u001b[0m \u001b[43m            \u001b[49m\u001b[43monly\u001b[49m\u001b[38;5;241;43m=\u001b[39;49m\u001b[43monly\u001b[49m\u001b[43m,\u001b[49m\n\u001b[1;32m    495\u001b[0m \u001b[43m            \u001b[49m\u001b[43mexclude\u001b[49m\u001b[38;5;241;43m=\u001b[39;49m\u001b[43mexclude\u001b[49m\u001b[43m,\u001b[49m\n\u001b[1;32m    496\u001b[0m \u001b[43m            \u001b[49m\u001b[43monly_current_env\u001b[49m\u001b[38;5;241;43m=\u001b[39;49m\u001b[43monly_current_env\u001b[49m\u001b[43m,\u001b[49m\n\u001b[1;32m    497\u001b[0m \u001b[43m        \u001b[49m\u001b[43m)\u001b[49m\n",
      "File \u001b[0;32m~/.local/lib/python3.11/site-packages/dynaconf/validator.py:216\u001b[0m, in \u001b[0;36mValidator.validate\u001b[0;34m(self, settings, only, exclude, only_current_env)\u001b[0m\n\u001b[1;32m    211\u001b[0m \u001b[38;5;66;03m# If only using current_env, skip using_env decoration (reload)\u001b[39;00m\n\u001b[1;32m    212\u001b[0m \u001b[38;5;28;01mif\u001b[39;00m (\n\u001b[1;32m    213\u001b[0m     \u001b[38;5;28mlen\u001b[39m(\u001b[38;5;28mself\u001b[39m\u001b[38;5;241m.\u001b[39menvs) \u001b[38;5;241m==\u001b[39m \u001b[38;5;241m1\u001b[39m\n\u001b[1;32m    214\u001b[0m     \u001b[38;5;129;01mand\u001b[39;00m \u001b[38;5;28mself\u001b[39m\u001b[38;5;241m.\u001b[39menvs[\u001b[38;5;241m0\u001b[39m]\u001b[38;5;241m.\u001b[39mupper() \u001b[38;5;241m==\u001b[39m settings\u001b[38;5;241m.\u001b[39mcurrent_env\u001b[38;5;241m.\u001b[39mupper()\n\u001b[1;32m    215\u001b[0m ):\n\u001b[0;32m--> 216\u001b[0m     \u001b[38;5;28;43mself\u001b[39;49m\u001b[38;5;241;43m.\u001b[39;49m\u001b[43m_validate_items\u001b[49m\u001b[43m(\u001b[49m\n\u001b[1;32m    217\u001b[0m \u001b[43m        \u001b[49m\u001b[43msettings\u001b[49m\u001b[43m,\u001b[49m\u001b[43m \u001b[49m\u001b[43msettings\u001b[49m\u001b[38;5;241;43m.\u001b[39;49m\u001b[43mcurrent_env\u001b[49m\u001b[43m,\u001b[49m\u001b[43m \u001b[49m\u001b[43monly\u001b[49m\u001b[38;5;241;43m=\u001b[39;49m\u001b[43monly\u001b[49m\u001b[43m,\u001b[49m\u001b[43m \u001b[49m\u001b[43mexclude\u001b[49m\u001b[38;5;241;43m=\u001b[39;49m\u001b[43mexclude\u001b[49m\n\u001b[1;32m    218\u001b[0m \u001b[43m    \u001b[49m\u001b[43m)\u001b[49m\n\u001b[1;32m    219\u001b[0m     \u001b[38;5;28;01mreturn\u001b[39;00m\n\u001b[1;32m    221\u001b[0m \u001b[38;5;28;01mfor\u001b[39;00m env \u001b[38;5;129;01min\u001b[39;00m \u001b[38;5;28mself\u001b[39m\u001b[38;5;241m.\u001b[39menvs:\n",
      "File \u001b[0;32m~/.local/lib/python3.11/site-packages/dynaconf/validator.py:279\u001b[0m, in \u001b[0;36mValidator._validate_items\u001b[0;34m(self, settings, env, only, exclude)\u001b[0m\n\u001b[1;32m    275\u001b[0m \u001b[38;5;28;01mif\u001b[39;00m \u001b[38;5;28mself\u001b[39m\u001b[38;5;241m.\u001b[39mmust_exist \u001b[38;5;129;01mis\u001b[39;00m \u001b[38;5;28;01mTrue\u001b[39;00m \u001b[38;5;129;01mand\u001b[39;00m value \u001b[38;5;129;01mis\u001b[39;00m empty:\n\u001b[1;32m    276\u001b[0m     _message \u001b[38;5;241m=\u001b[39m \u001b[38;5;28mself\u001b[39m\u001b[38;5;241m.\u001b[39mmessages[\u001b[38;5;124m\"\u001b[39m\u001b[38;5;124mmust_exist_true\u001b[39m\u001b[38;5;124m\"\u001b[39m]\u001b[38;5;241m.\u001b[39mformat(\n\u001b[1;32m    277\u001b[0m         name\u001b[38;5;241m=\u001b[39mname, env\u001b[38;5;241m=\u001b[39menv\n\u001b[1;32m    278\u001b[0m     )\n\u001b[0;32m--> 279\u001b[0m     \u001b[38;5;28;01mraise\u001b[39;00m ValidationError(_message, details\u001b[38;5;241m=\u001b[39m[(\u001b[38;5;28mself\u001b[39m, _message)])\n\u001b[1;32m    281\u001b[0m \u001b[38;5;28;01mif\u001b[39;00m \u001b[38;5;28mself\u001b[39m\u001b[38;5;241m.\u001b[39mmust_exist \u001b[38;5;129;01mis\u001b[39;00m \u001b[38;5;28;01mFalse\u001b[39;00m \u001b[38;5;129;01mand\u001b[39;00m value \u001b[38;5;129;01mis\u001b[39;00m \u001b[38;5;129;01mnot\u001b[39;00m empty:\n\u001b[1;32m    282\u001b[0m     _message \u001b[38;5;241m=\u001b[39m \u001b[38;5;28mself\u001b[39m\u001b[38;5;241m.\u001b[39mmessages[\u001b[38;5;124m\"\u001b[39m\u001b[38;5;124mmust_exist_false\u001b[39m\u001b[38;5;124m\"\u001b[39m]\u001b[38;5;241m.\u001b[39mformat(\n\u001b[1;32m    283\u001b[0m         name\u001b[38;5;241m=\u001b[39mname, env\u001b[38;5;241m=\u001b[39menv\n\u001b[1;32m    284\u001b[0m     )\n",
      "\u001b[0;31mValidationError\u001b[0m: token is required in env main"
     ]
    }
   ],
   "source": [
    "from dynaconf import Dynaconf, Validator\n",
    "\n",
    "transfer_conf.validators.register(\n",
    "    Validator(\"token\", must_exist=True),\n",
    "    Validator(\"test_token\", must_exist=True),\n",
    ")\n",
    "\n",
    "transfer_conf.validators.validate()"
   ]
  },
  {
   "cell_type": "code",
   "execution_count": 6,
   "metadata": {},
   "outputs": [
    {
     "name": "stdout",
     "output_type": "stream",
     "text": [
      "0\n",
      "1\n",
      "2\n"
     ]
    }
   ],
   "source": [
    "from enum import Enum, auto\n",
    "class TYPES(Enum):\n",
    "    RATE_TYPE = auto(0)\n",
    "    INTERVAL_TYPE= auto()\n",
    "    INTERVAL= auto()\n",
    "    NORMALIZED_TYPE= auto()\n",
    "    NORMALIZED= auto()\n",
    "    RATE= auto()\n",
    "    DURATION_TYPE= auto()\n",
    "    DURATION= auto()\n",
    "\n",
    "print(TYPES.RATE_TYPE.value)\n",
    "print(TYPES.INTERVAL_TYPE.value)\n",
    "print(TYPES.INTERVAL.value)"
   ]
  },
  {
   "cell_type": "code",
   "execution_count": 30,
   "metadata": {},
   "outputs": [
    {
     "name": "stdout",
     "output_type": "stream",
     "text": [
      "\n",
      "[log_colors]\n",
      "fore_enable = true\n",
      "back_enable = false\n",
      "\n",
      "[log_colors.fore]\n",
      "TRACE = \"LIGHTGREEN_EX\"\n",
      "DEBUG = \"LIGHTGREEN_EX\"\n",
      "INFO = \"GREEN\"\n",
      "WARNING = \"RED\"\n",
      "ERROR = \"RED\"\n",
      "FATAL = \"WHITE\"\n",
      "\n",
      "# [log_colors.back]\n",
      "# DEBUG = \"BLACK\"\n",
      "# INFO = \"BLACK\"\n",
      "# FATAL = \"RED\"\n",
      "\n"
     ]
    }
   ],
   "source": [
    "text=\"\"\"\n",
    "[log_colors]\n",
    "fore_enable = true\n",
    "back_enable = false\n",
    "\n",
    "[log_colors.fore]\n",
    "TRACE = \"LIGHTGREEN_EX\"\n",
    "DEBUG = \"LIGHTGREEN_EX\"\n",
    "INFO = \"GREEN\"\n",
    "WARNING = \"RED\"\n",
    "ERROR = \"RED\"\n",
    "FATAL = \"WHITE\"\n",
    "\n",
    "# [log_colors.back]\n",
    "# DEBUG = \"BLACK\"\n",
    "# INFO = \"BLACK\"\n",
    "# FATAL = \"RED\"\n",
    "\"\"\"\n",
    "\n",
    "print(text)"
   ]
  },
  {
   "cell_type": "markdown",
   "metadata": {},
   "source": [
    "### Getting values as dictionary"
   ]
  },
  {
   "cell_type": "code",
   "execution_count": 31,
   "metadata": {},
   "outputs": [
    {
     "data": {
      "text/plain": [
       "253"
      ]
     },
     "execution_count": 31,
     "metadata": {},
     "output_type": "execute_result"
    }
   ],
   "source": [
    "import os\n",
    "os.environ[\"ROOT_PATH_FOR_DYNACONF\"] = \"/tmp\"\n",
    "\n",
    "config_file = \"/tmp/config_file.toml\"\n",
    "\n",
    "open(config_file,\"w\").write(text)\n"
   ]
  },
  {
   "cell_type": "code",
   "execution_count": 33,
   "metadata": {},
   "outputs": [
    {
     "name": "stdout",
     "output_type": "stream",
     "text": [
      "LIGHTGREEN_EX\n"
     ]
    }
   ],
   "source": [
    "\n",
    "from dynaconf import Dynaconf, Validator\n",
    "\n",
    "conf = Dynaconf(\n",
    "    settings_files=[os.path.basename(config_file)],\n",
    "    validators = [\n",
    "        Validator(\"log_colors.fore_enable\", must_exist= True),\n",
    "        Validator(\"log_colors.back_enable\", must_exist= True),\n",
    "        Validator(\n",
    "            \"log_colors.back\",\n",
    "            must_exist=True,\n",
    "            when=Validator(\"log_colors.back\", must_exist=True, ne=True),\n",
    "        )\n",
    "    ]\n",
    ")\n",
    "\n",
    "print(conf.log_colors.fore.TRACE)\n",
    "# print(conf.log_colors.back.get(\"TRACE\"))\n",
    "# print(conf.log_colors.back.get(\"FATAL\"))\n",
    "# print(conf.log_colors.back, dict(conf.log_colors.back))"
   ]
  },
  {
   "cell_type": "markdown",
   "metadata": {},
   "source": [
    "### Conditional validation"
   ]
  },
  {
   "cell_type": "code",
   "execution_count": 149,
   "metadata": {},
   "outputs": [
    {
     "name": "stdout",
     "output_type": "stream",
     "text": [
      "True\n",
      "AMAZING DEFAULT\n"
     ]
    }
   ],
   "source": [
    "# text=\"\"\"\n",
    "# primary_variable = True\n",
    "# secondary_variable = \"HEllo\"\n",
    "# \"\"\"\n",
    "\n",
    "# import os\n",
    "# os.environ[\"ROOT_PATH_FOR_DYNACONF\"] = \"/tmp\"\n",
    "# config_file = \"/tmp/config_file.toml\"\n",
    "# open(config_file,\"w\").write(text)\n",
    "\n",
    "from dynaconf import Dynaconf,Validator\n",
    "\n",
    "os.environ[\"DYNACONF_PRODUCTION__SECONDARY_VARIABLE\"] = \"AMAZING DEFAULT\"\n",
    "\n",
    "config = Dynaconf(\n",
    "    primary_variable=True,\n",
    "    #secondary_variable=\"HEllo world!\",\n",
    ")\n",
    "\n",
    "config.validators.register(\n",
    "    # Ensure some parameter meets a condition\n",
    "    Validator(\n",
    "        \"primary_variable\",\n",
    "        cast=bool,\n",
    "        must_exist=True,\n",
    "        #default=[],\n",
    "    ),\n",
    "    Validator(\n",
    "        \"secondary_variable\",\n",
    "        must_exist=True,\n",
    "        when=Validator(\"primary_variable\", eq=False),\n",
    "        #messages={\"must_exist_true\": \"You forgot to set {name} in your settings.\"},\n",
    "        default=\"TESTING\",# Get default if it is must exist, but it is not.\n",
    "    )\n",
    ")\n",
    "\n",
    "config.validators.validate()\n",
    "\n",
    "print(config.primary_variable)\n",
    "import os\n",
    "\n",
    "\n",
    "\n",
    "print(config.get(\"secondary_variable\"))\n"
   ]
  },
  {
   "cell_type": "code",
   "execution_count": 140,
   "metadata": {},
   "outputs": [
    {
     "ename": "ValidationError",
     "evalue": "HELLO WORLD",
     "output_type": "error",
     "traceback": [
      "\u001b[0;31m---------------------------------------------------------------------------\u001b[0m",
      "\u001b[0;31mValidationError\u001b[0m                           Traceback (most recent call last)",
      "Cell \u001b[0;32mIn[140], line 13\u001b[0m\n\u001b[1;32m      3\u001b[0m config \u001b[38;5;241m=\u001b[39m Dynaconf()\n\u001b[1;32m      5\u001b[0m config\u001b[38;5;241m.\u001b[39mvalidators\u001b[38;5;241m.\u001b[39mregister(\n\u001b[1;32m      6\u001b[0m     Validator(\n\u001b[1;32m      7\u001b[0m         \u001b[38;5;124m\"\u001b[39m\u001b[38;5;124mvar\u001b[39m\u001b[38;5;124m\"\u001b[39m,\n\u001b[0;32m   (...)\u001b[0m\n\u001b[1;32m     10\u001b[0m     )\n\u001b[1;32m     11\u001b[0m )\n\u001b[0;32m---> 13\u001b[0m \u001b[43mconfig\u001b[49m\u001b[38;5;241;43m.\u001b[39;49m\u001b[43mvalidators\u001b[49m\u001b[38;5;241;43m.\u001b[39;49m\u001b[43mvalidate\u001b[49m\u001b[43m(\u001b[49m\u001b[43m)\u001b[49m\n",
      "File \u001b[0;32m~/.local/lib/python3.11/site-packages/dynaconf/validator.py:492\u001b[0m, in \u001b[0;36mValidatorList.validate\u001b[0;34m(self, only, exclude, only_current_env)\u001b[0m\n\u001b[1;32m    485\u001b[0m \u001b[38;5;28;01mdef\u001b[39;00m \u001b[38;5;21mvalidate\u001b[39m(\n\u001b[1;32m    486\u001b[0m     \u001b[38;5;28mself\u001b[39m,\n\u001b[1;32m    487\u001b[0m     only: \u001b[38;5;28mstr\u001b[39m \u001b[38;5;241m|\u001b[39m Sequence \u001b[38;5;241m|\u001b[39m \u001b[38;5;28;01mNone\u001b[39;00m \u001b[38;5;241m=\u001b[39m \u001b[38;5;28;01mNone\u001b[39;00m,\n\u001b[1;32m    488\u001b[0m     exclude: \u001b[38;5;28mstr\u001b[39m \u001b[38;5;241m|\u001b[39m Sequence \u001b[38;5;241m|\u001b[39m \u001b[38;5;28;01mNone\u001b[39;00m \u001b[38;5;241m=\u001b[39m \u001b[38;5;28;01mNone\u001b[39;00m,\n\u001b[1;32m    489\u001b[0m     only_current_env: \u001b[38;5;28mbool\u001b[39m \u001b[38;5;241m=\u001b[39m \u001b[38;5;28;01mFalse\u001b[39;00m,\n\u001b[1;32m    490\u001b[0m ) \u001b[38;5;241m-\u001b[39m\u001b[38;5;241m>\u001b[39m \u001b[38;5;28;01mNone\u001b[39;00m:\n\u001b[1;32m    491\u001b[0m     \u001b[38;5;28;01mfor\u001b[39;00m validator \u001b[38;5;129;01min\u001b[39;00m \u001b[38;5;28mself\u001b[39m:\n\u001b[0;32m--> 492\u001b[0m         \u001b[43mvalidator\u001b[49m\u001b[38;5;241;43m.\u001b[39;49m\u001b[43mvalidate\u001b[49m\u001b[43m(\u001b[49m\n\u001b[1;32m    493\u001b[0m \u001b[43m            \u001b[49m\u001b[38;5;28;43mself\u001b[39;49m\u001b[38;5;241;43m.\u001b[39;49m\u001b[43msettings\u001b[49m\u001b[43m,\u001b[49m\n\u001b[1;32m    494\u001b[0m \u001b[43m            \u001b[49m\u001b[43monly\u001b[49m\u001b[38;5;241;43m=\u001b[39;49m\u001b[43monly\u001b[49m\u001b[43m,\u001b[49m\n\u001b[1;32m    495\u001b[0m \u001b[43m            \u001b[49m\u001b[43mexclude\u001b[49m\u001b[38;5;241;43m=\u001b[39;49m\u001b[43mexclude\u001b[49m\u001b[43m,\u001b[49m\n\u001b[1;32m    496\u001b[0m \u001b[43m            \u001b[49m\u001b[43monly_current_env\u001b[49m\u001b[38;5;241;43m=\u001b[39;49m\u001b[43monly_current_env\u001b[49m\u001b[43m,\u001b[49m\n\u001b[1;32m    497\u001b[0m \u001b[43m        \u001b[49m\u001b[43m)\u001b[49m\n",
      "File \u001b[0;32m~/.local/lib/python3.11/site-packages/dynaconf/validator.py:216\u001b[0m, in \u001b[0;36mValidator.validate\u001b[0;34m(self, settings, only, exclude, only_current_env)\u001b[0m\n\u001b[1;32m    211\u001b[0m \u001b[38;5;66;03m# If only using current_env, skip using_env decoration (reload)\u001b[39;00m\n\u001b[1;32m    212\u001b[0m \u001b[38;5;28;01mif\u001b[39;00m (\n\u001b[1;32m    213\u001b[0m     \u001b[38;5;28mlen\u001b[39m(\u001b[38;5;28mself\u001b[39m\u001b[38;5;241m.\u001b[39menvs) \u001b[38;5;241m==\u001b[39m \u001b[38;5;241m1\u001b[39m\n\u001b[1;32m    214\u001b[0m     \u001b[38;5;129;01mand\u001b[39;00m \u001b[38;5;28mself\u001b[39m\u001b[38;5;241m.\u001b[39menvs[\u001b[38;5;241m0\u001b[39m]\u001b[38;5;241m.\u001b[39mupper() \u001b[38;5;241m==\u001b[39m settings\u001b[38;5;241m.\u001b[39mcurrent_env\u001b[38;5;241m.\u001b[39mupper()\n\u001b[1;32m    215\u001b[0m ):\n\u001b[0;32m--> 216\u001b[0m     \u001b[38;5;28;43mself\u001b[39;49m\u001b[38;5;241;43m.\u001b[39;49m\u001b[43m_validate_items\u001b[49m\u001b[43m(\u001b[49m\n\u001b[1;32m    217\u001b[0m \u001b[43m        \u001b[49m\u001b[43msettings\u001b[49m\u001b[43m,\u001b[49m\u001b[43m \u001b[49m\u001b[43msettings\u001b[49m\u001b[38;5;241;43m.\u001b[39;49m\u001b[43mcurrent_env\u001b[49m\u001b[43m,\u001b[49m\u001b[43m \u001b[49m\u001b[43monly\u001b[49m\u001b[38;5;241;43m=\u001b[39;49m\u001b[43monly\u001b[49m\u001b[43m,\u001b[49m\u001b[43m \u001b[49m\u001b[43mexclude\u001b[49m\u001b[38;5;241;43m=\u001b[39;49m\u001b[43mexclude\u001b[49m\n\u001b[1;32m    218\u001b[0m \u001b[43m    \u001b[49m\u001b[43m)\u001b[49m\n\u001b[1;32m    219\u001b[0m     \u001b[38;5;28;01mreturn\u001b[39;00m\n\u001b[1;32m    221\u001b[0m \u001b[38;5;28;01mfor\u001b[39;00m env \u001b[38;5;129;01min\u001b[39;00m \u001b[38;5;28mself\u001b[39m\u001b[38;5;241m.\u001b[39menvs:\n",
      "File \u001b[0;32m~/.local/lib/python3.11/site-packages/dynaconf/validator.py:279\u001b[0m, in \u001b[0;36mValidator._validate_items\u001b[0;34m(self, settings, env, only, exclude)\u001b[0m\n\u001b[1;32m    275\u001b[0m \u001b[38;5;28;01mif\u001b[39;00m \u001b[38;5;28mself\u001b[39m\u001b[38;5;241m.\u001b[39mmust_exist \u001b[38;5;129;01mis\u001b[39;00m \u001b[38;5;28;01mTrue\u001b[39;00m \u001b[38;5;129;01mand\u001b[39;00m value \u001b[38;5;129;01mis\u001b[39;00m empty:\n\u001b[1;32m    276\u001b[0m     _message \u001b[38;5;241m=\u001b[39m \u001b[38;5;28mself\u001b[39m\u001b[38;5;241m.\u001b[39mmessages[\u001b[38;5;124m\"\u001b[39m\u001b[38;5;124mmust_exist_true\u001b[39m\u001b[38;5;124m\"\u001b[39m]\u001b[38;5;241m.\u001b[39mformat(\n\u001b[1;32m    277\u001b[0m         name\u001b[38;5;241m=\u001b[39mname, env\u001b[38;5;241m=\u001b[39menv\n\u001b[1;32m    278\u001b[0m     )\n\u001b[0;32m--> 279\u001b[0m     \u001b[38;5;28;01mraise\u001b[39;00m ValidationError(_message, details\u001b[38;5;241m=\u001b[39m[(\u001b[38;5;28mself\u001b[39m, _message)])\n\u001b[1;32m    281\u001b[0m \u001b[38;5;28;01mif\u001b[39;00m \u001b[38;5;28mself\u001b[39m\u001b[38;5;241m.\u001b[39mmust_exist \u001b[38;5;129;01mis\u001b[39;00m \u001b[38;5;28;01mFalse\u001b[39;00m \u001b[38;5;129;01mand\u001b[39;00m value \u001b[38;5;129;01mis\u001b[39;00m \u001b[38;5;129;01mnot\u001b[39;00m empty:\n\u001b[1;32m    282\u001b[0m     _message \u001b[38;5;241m=\u001b[39m \u001b[38;5;28mself\u001b[39m\u001b[38;5;241m.\u001b[39mmessages[\u001b[38;5;124m\"\u001b[39m\u001b[38;5;124mmust_exist_false\u001b[39m\u001b[38;5;124m\"\u001b[39m]\u001b[38;5;241m.\u001b[39mformat(\n\u001b[1;32m    283\u001b[0m         name\u001b[38;5;241m=\u001b[39mname, env\u001b[38;5;241m=\u001b[39menv\n\u001b[1;32m    284\u001b[0m     )\n",
      "\u001b[0;31mValidationError\u001b[0m: HELLO WORLD"
     ]
    }
   ],
   "source": [
    "\n",
    "from dynaconf import Dynaconf,Validator\n",
    "\n",
    "config = Dynaconf()\n",
    "\n",
    "config.validators.register(\n",
    "    Validator(\n",
    "        \"var\",\n",
    "        must_exist=True,\n",
    "        messages={\"must_exist_true\":\"HELLO WORLD\"}\n",
    "    )\n",
    ")\n",
    "\n",
    "config.validators.validate()\n"
   ]
  },
  {
   "cell_type": "code",
   "execution_count": 1,
   "metadata": {},
   "outputs": [
    {
     "ename": "NameError",
     "evalue": "name 'config' is not defined",
     "output_type": "error",
     "traceback": [
      "\u001b[0;31m---------------------------------------------------------------------------\u001b[0m",
      "\u001b[0;31mNameError\u001b[0m                                 Traceback (most recent call last)",
      "Cell \u001b[0;32mIn[1], line 27\u001b[0m\n\u001b[1;32m     21\u001b[0m \u001b[38;5;28;01mfrom\u001b[39;00m \u001b[38;5;21;01mdynaconf\u001b[39;00m \u001b[38;5;28;01mimport\u001b[39;00m Dynaconf\n\u001b[1;32m     23\u001b[0m conf \u001b[38;5;241m=\u001b[39m Dynaconf(\n\u001b[1;32m     24\u001b[0m     settings_files\u001b[38;5;241m=\u001b[39m[os\u001b[38;5;241m.\u001b[39mpath\u001b[38;5;241m.\u001b[39mbasename(config_file)]\n\u001b[1;32m     25\u001b[0m )\n\u001b[0;32m---> 27\u001b[0m \u001b[43mconfig\u001b[49m\u001b[38;5;241m.\u001b[39mvalidators\u001b[38;5;241m.\u001b[39mregister()\n",
      "\u001b[0;31mNameError\u001b[0m: name 'config' is not defined"
     ]
    }
   ],
   "source": [
    "text=\"\"\"\n",
    "[log_colors]\n",
    "[log_colors.fore]\n",
    "TRACE = \"LIGHTGREEN_EX\"\n",
    "DEBUG = \"LIGHTGREEN_EX\"\n",
    "INFO = \"GREEN\"\n",
    "WARNING = \"RED\"\n",
    "ERROR = \"RED\"\n",
    "FATAL = \"WHITE\"\n",
    "\n",
    "[log_colors.back]\n",
    "DEBUG = \"BLACK\"\n",
    "INFO = \"BLACK\"\n",
    "FATAL = \"RED\"\n",
    "\"\"\"\n",
    "\n",
    "import os\n",
    "os.environ[\"ROOT_PATH_FOR_DYNACONF\"] = \"/tmp\"\n",
    "config_file = \"/tmp/config_file.toml\"\n",
    "open(config_file,\"w\").write(text)\n",
    "from dynaconf import Dynaconf\n",
    "\n",
    "conf = Dynaconf(\n",
    "    settings_files=[os.path.basename(config_file)]\n",
    ")\n",
    "\n",
    "config.validators.register()"
   ]
  },
  {
   "cell_type": "code",
   "execution_count": 137,
   "metadata": {},
   "outputs": [],
   "source": [
    "from dynaconf import Dynaconf, ValidationError, Validator\n",
    "from dynaconf import loaders\n",
    "from dynaconf import settings\n",
    "from dynaconf.utils.boxing import DynaBox\n",
    "\n",
    "sorter_conf = Dynaconf(\n",
    "    settings_files=[\"anyfile.toml\"],\n",
    "    envvar_prefix=\"DYNACONF\",\n",
    "    env=\"production\",  # or \"production\" | \"testing\"\n",
    "    production={\n",
    "        \"check_syniverse_sorting_enabled\": True,\n",
    "        # \"default_syniverse_sorting_dch\": \"TESTING\",\n",
    "        \"insert_monitor_compressed\": True,\n",
    "        \"insert_unknown_reported_file_info_to_db\": True,\n",
    "        \"insert_tomiy_reported_file_info_to_db\": True,\n",
    "        \"insert_sorted_file\": True,\n",
    "        \"extract_recipient_dch\": True,\n",
    "        # \"default_recipient_dch\": \"TESTING\",\n",
    "        \"copy_and_remove\": True,\n",
    "    },\n",
    "    testing={\n",
    "        \"check_syniverse_sorting_enabled\": False,\n",
    "        \"default_syniverse_sorting_dch\": \"TESTING\",\n",
    "        \"insert_monitor_compressed\": False,\n",
    "        \"insert_unknown_reported_file_info_to_db\": False,\n",
    "        \"insert_tomiy_reported_file_info_to_db\": False,\n",
    "        \"insert_sorted_file\": False,\n",
    "        \"extract_recipient_dch\": False,\n",
    "        \"default_recipient_dch\": \"TESTING\",\n",
    "        \"copy_and_remove\": False,\n",
    "    },\n",
    ")\n",
    "\n",
    "data = sorter_conf.as_dict(env='production')\n",
    "loaders.write('/tmp/dynaconf.toml', DynaBox(data).to_dict(), merge=False)"
   ]
  },
  {
   "cell_type": "markdown",
   "metadata": {},
   "source": [
    "## Getting only the part of the env"
   ]
  },
  {
   "cell_type": "code",
   "execution_count": 75,
   "metadata": {},
   "outputs": [
    {
     "name": "stdout",
     "output_type": "stream",
     "text": [
      "{'var': True}\n"
     ]
    }
   ],
   "source": [
    "from dynaconf import Dynaconf\n",
    "\n",
    "env = \"PRODUCTION\"\n",
    "\n",
    "settings = Dynaconf(\n",
    "    envvar_prefix=\"DYNACONF\",\n",
    "    env=env,  # or \"production\" | \"testing\"\n",
    "    production={\n",
    "        \"var\": True,\n",
    "    },\n",
    "    testing={\n",
    "        \"var\": False\n",
    "    },\n",
    ")\n",
    "\n",
    "print(settings[env])"
   ]
  },
  {
   "cell_type": "markdown",
   "metadata": {},
   "source": [
    "## Lazy validation"
   ]
  },
  {
   "cell_type": "code",
   "execution_count": 2,
   "metadata": {},
   "outputs": [
    {
     "name": "stdout",
     "output_type": "stream",
     "text": [
      "{'NEW_VAR7': 'var7 contetn', 'VAR': False}\n",
      "False\n"
     ]
    }
   ],
   "source": [
    "from dynaconf import Dynaconf, Validator\n",
    "import os\n",
    "\n",
    "text=\"\"\"\n",
    "[production]\n",
    "var = true\n",
    "\n",
    "[testing]\n",
    "var = false\n",
    "\n",
    "[other]\n",
    "\n",
    "\"\"\"\n",
    "\n",
    "import os\n",
    "os.environ[\"ROOT_PATH_FOR_DYNACONF\"] = \"/tmp\"\n",
    "config_file = \"/tmp/config_file.toml\"\n",
    "open(config_file,\"w\").write(text)\n",
    "\n",
    "#env = os.environ.get(\"ENV_FOR_DYNACONF\",\"production\")\n",
    "\n",
    "settings = Dynaconf(\n",
    "    settings_files=[os.path.basename(config_file)],\n",
    "    #envvar_prefix=\"DYNACONF\",\n",
    "    environments=True,\n",
    "    #env=None,  # or \"production\" | \"testing\"\n",
    "    #force_env=None,# Forcing\n",
    "    default_env=\"testing\",\n",
    "    new_var7= \"var7 contetn\"\n",
    "    #validate_only_current_env=False,\n",
    "    #var= True,\n",
    "    # production={\n",
    "    #     \"var\": True,\n",
    "    # },\n",
    "    # testing={\n",
    "    #     \"var\": False\n",
    "    # },\n",
    "    # validators=[\n",
    "    #     Validator(\n",
    "    #     \"var\",\n",
    "    #     must_exist=True\n",
    "    # )\n",
    "    #]\n",
    ")\n",
    "\n",
    "print(settings.to_dict())\n",
    "print(settings.get(\"var\"))\n",
    "# print(settings.production.to_dict())\n",
    "# print(settings.production.var)\n",
    "\n",
    "# settings.validators.register(\n",
    "#     Validator(\n",
    "#         \"var\",\n",
    "#         must_exist=True\n",
    "#     )\n",
    "# )\n",
    "\n",
    "# print(settings.to_dict())\n",
    "\n",
    "#settings.validators.validate()\n"
   ]
  },
  {
   "cell_type": "code",
   "execution_count": 12,
   "metadata": {},
   "outputs": [
    {
     "name": "stdout",
     "output_type": "stream",
     "text": [
      "{'VAR': True}\n",
      "True\n"
     ]
    }
   ],
   "source": [
    "sorter_conf = Dynaconf(\n",
    "    settings_files=[\"config_file.toml\"],\n",
    "    #envvar_prefix=\"DYNACONF\",\n",
    "    environments=True,\n",
    "    #env=\"testing\",  # or \"production\" | \"testing\"\n",
    "    #force_env=None,# Forcing\n",
    "    default_env=\"production\",\n",
    "    #PRODUCTION= {'var': True}, TESTING= {'var': False}, OTHER= {},\n",
    "    #var=\"ASDASD\"\n",
    ")\n",
    "print(sorter_conf.to_dict())\n",
    "print(sorter_conf.get(\"var\"))\n",
    "#print(sorter_conf.get(\"check_syniverse_sorting_enabled\"))"
   ]
  },
  {
   "cell_type": "code",
   "execution_count": 6,
   "metadata": {},
   "outputs": [
    {
     "ename": "ValidationError",
     "evalue": "mysql_main_database invalid for __validate_db_name(anyname -- test) in env DEVELOPMENT",
     "output_type": "error",
     "traceback": [
      "\u001b[0;31m---------------------------------------------------------------------------\u001b[0m",
      "\u001b[0;31mValidationError\u001b[0m                           Traceback (most recent call last)",
      "Cell \u001b[0;32mIn[6], line 35\u001b[0m\n\u001b[1;32m     21\u001b[0m \u001b[38;5;66;03m# Add the custom validator to your Dynaconf configuration\u001b[39;00m\n\u001b[1;32m     22\u001b[0m db_config \u001b[38;5;241m=\u001b[39m Dynaconf(\n\u001b[1;32m     23\u001b[0m     settings_files\u001b[38;5;241m=\u001b[39m[\u001b[38;5;124m\"\u001b[39m\u001b[38;5;124mdb_config.toml\u001b[39m\u001b[38;5;124m\"\u001b[39m],\n\u001b[1;32m     24\u001b[0m     envvar_prefix\u001b[38;5;241m=\u001b[39m\u001b[38;5;124m\"\u001b[39m\u001b[38;5;124mDCHROAMKIT\u001b[39m\u001b[38;5;124m\"\u001b[39m,\n\u001b[0;32m   (...)\u001b[0m\n\u001b[1;32m     32\u001b[0m     ],\n\u001b[1;32m     33\u001b[0m )\n\u001b[0;32m---> 35\u001b[0m \u001b[38;5;28mprint\u001b[39m(\u001b[43mdb_config\u001b[49m\u001b[38;5;241;43m.\u001b[39;49m\u001b[43mmysql_main_database\u001b[49m)\n",
      "File \u001b[0;32m~/.local/lib/python3.11/site-packages/dynaconf/base.py:122\u001b[0m, in \u001b[0;36mLazySettings.__getattr__\u001b[0;34m(self, name)\u001b[0m\n\u001b[1;32m    120\u001b[0m \u001b[38;5;250m\u001b[39m\u001b[38;5;124;03m\"\"\"Allow getting keys from self.store using dot notation\"\"\"\u001b[39;00m\n\u001b[1;32m    121\u001b[0m \u001b[38;5;28;01mif\u001b[39;00m \u001b[38;5;28mself\u001b[39m\u001b[38;5;241m.\u001b[39m_wrapped \u001b[38;5;129;01mis\u001b[39;00m empty:\n\u001b[0;32m--> 122\u001b[0m     \u001b[38;5;28;43mself\u001b[39;49m\u001b[38;5;241;43m.\u001b[39;49m\u001b[43m_setup\u001b[49m\u001b[43m(\u001b[49m\u001b[43m)\u001b[49m\n\u001b[1;32m    123\u001b[0m \u001b[38;5;28;01mif\u001b[39;00m name \u001b[38;5;129;01min\u001b[39;00m \u001b[38;5;28mself\u001b[39m\u001b[38;5;241m.\u001b[39m_wrapped\u001b[38;5;241m.\u001b[39m_deleted:  \u001b[38;5;66;03m# noqa\u001b[39;00m\n\u001b[1;32m    124\u001b[0m     \u001b[38;5;28;01mraise\u001b[39;00m \u001b[38;5;167;01mAttributeError\u001b[39;00m(\n\u001b[1;32m    125\u001b[0m         \u001b[38;5;124mf\u001b[39m\u001b[38;5;124m\"\u001b[39m\u001b[38;5;124mAttribute \u001b[39m\u001b[38;5;132;01m{\u001b[39;00mname\u001b[38;5;132;01m}\u001b[39;00m\u001b[38;5;124m was deleted, \u001b[39m\u001b[38;5;124m\"\u001b[39m \u001b[38;5;124m\"\u001b[39m\u001b[38;5;124mor belongs to different env\u001b[39m\u001b[38;5;124m\"\u001b[39m\n\u001b[1;32m    126\u001b[0m     )\n",
      "File \u001b[0;32m~/.local/lib/python3.11/site-packages/dynaconf/base.py:183\u001b[0m, in \u001b[0;36mLazySettings._setup\u001b[0;34m(self)\u001b[0m\n\u001b[1;32m    179\u001b[0m environment_variable \u001b[38;5;241m=\u001b[39m \u001b[38;5;28mself\u001b[39m\u001b[38;5;241m.\u001b[39m_kwargs\u001b[38;5;241m.\u001b[39mget(\n\u001b[1;32m    180\u001b[0m     \u001b[38;5;124m\"\u001b[39m\u001b[38;5;124mENVVAR_FOR_DYNACONF\u001b[39m\u001b[38;5;124m\"\u001b[39m, default_settings\u001b[38;5;241m.\u001b[39mENVVAR_FOR_DYNACONF\n\u001b[1;32m    181\u001b[0m )\n\u001b[1;32m    182\u001b[0m settings_module \u001b[38;5;241m=\u001b[39m os\u001b[38;5;241m.\u001b[39menviron\u001b[38;5;241m.\u001b[39mget(environment_variable)\n\u001b[0;32m--> 183\u001b[0m \u001b[38;5;28mself\u001b[39m\u001b[38;5;241m.\u001b[39m_wrapped \u001b[38;5;241m=\u001b[39m \u001b[38;5;28;43mself\u001b[39;49m\u001b[38;5;241;43m.\u001b[39;49m\u001b[43m_wrapper_class\u001b[49m\u001b[43m(\u001b[49m\n\u001b[1;32m    184\u001b[0m \u001b[43m    \u001b[49m\u001b[43msettings_module\u001b[49m\u001b[38;5;241;43m=\u001b[39;49m\u001b[43msettings_module\u001b[49m\u001b[43m,\u001b[49m\u001b[43m \u001b[49m\u001b[38;5;241;43m*\u001b[39;49m\u001b[38;5;241;43m*\u001b[39;49m\u001b[38;5;28;43mself\u001b[39;49m\u001b[38;5;241;43m.\u001b[39;49m\u001b[43m_kwargs\u001b[49m\n\u001b[1;32m    185\u001b[0m \u001b[43m\u001b[49m\u001b[43m)\u001b[49m\n",
      "File \u001b[0;32m~/.local/lib/python3.11/site-packages/dynaconf/base.py:276\u001b[0m, in \u001b[0;36mSettings.__init__\u001b[0;34m(self, settings_module, **kwargs)\u001b[0m\n\u001b[1;32m    273\u001b[0m     \u001b[38;5;28mself\u001b[39m\u001b[38;5;241m.\u001b[39mexecute_loaders()\n\u001b[1;32m    275\u001b[0m \u001b[38;5;28;01mif\u001b[39;00m \u001b[38;5;129;01mnot\u001b[39;00m skip_validators:\n\u001b[0;32m--> 276\u001b[0m     \u001b[38;5;28;43mself\u001b[39;49m\u001b[38;5;241;43m.\u001b[39;49m\u001b[43mvalidators\u001b[49m\u001b[38;5;241;43m.\u001b[39;49m\u001b[43mvalidate\u001b[49m\u001b[43m(\u001b[49m\n\u001b[1;32m    277\u001b[0m \u001b[43m        \u001b[49m\u001b[43monly\u001b[49m\u001b[38;5;241;43m=\u001b[39;49m\u001b[38;5;28;43mself\u001b[39;49m\u001b[38;5;241;43m.\u001b[39;49m\u001b[43m_validate_only\u001b[49m\u001b[43m,\u001b[49m\n\u001b[1;32m    278\u001b[0m \u001b[43m        \u001b[49m\u001b[43mexclude\u001b[49m\u001b[38;5;241;43m=\u001b[39;49m\u001b[38;5;28;43mself\u001b[39;49m\u001b[38;5;241;43m.\u001b[39;49m\u001b[43m_validate_exclude\u001b[49m\u001b[43m,\u001b[49m\n\u001b[1;32m    279\u001b[0m \u001b[43m        \u001b[49m\u001b[43monly_current_env\u001b[49m\u001b[38;5;241;43m=\u001b[39;49m\u001b[38;5;28;43mself\u001b[39;49m\u001b[38;5;241;43m.\u001b[39;49m\u001b[43m_validate_only_current_env\u001b[49m\u001b[43m,\u001b[49m\n\u001b[1;32m    280\u001b[0m \u001b[43m    \u001b[49m\u001b[43m)\u001b[49m\n",
      "File \u001b[0;32m~/.local/lib/python3.11/site-packages/dynaconf/validator.py:492\u001b[0m, in \u001b[0;36mValidatorList.validate\u001b[0;34m(self, only, exclude, only_current_env)\u001b[0m\n\u001b[1;32m    485\u001b[0m \u001b[38;5;28;01mdef\u001b[39;00m \u001b[38;5;21mvalidate\u001b[39m(\n\u001b[1;32m    486\u001b[0m     \u001b[38;5;28mself\u001b[39m,\n\u001b[1;32m    487\u001b[0m     only: \u001b[38;5;28mstr\u001b[39m \u001b[38;5;241m|\u001b[39m Sequence \u001b[38;5;241m|\u001b[39m \u001b[38;5;28;01mNone\u001b[39;00m \u001b[38;5;241m=\u001b[39m \u001b[38;5;28;01mNone\u001b[39;00m,\n\u001b[1;32m    488\u001b[0m     exclude: \u001b[38;5;28mstr\u001b[39m \u001b[38;5;241m|\u001b[39m Sequence \u001b[38;5;241m|\u001b[39m \u001b[38;5;28;01mNone\u001b[39;00m \u001b[38;5;241m=\u001b[39m \u001b[38;5;28;01mNone\u001b[39;00m,\n\u001b[1;32m    489\u001b[0m     only_current_env: \u001b[38;5;28mbool\u001b[39m \u001b[38;5;241m=\u001b[39m \u001b[38;5;28;01mFalse\u001b[39;00m,\n\u001b[1;32m    490\u001b[0m ) \u001b[38;5;241m-\u001b[39m\u001b[38;5;241m>\u001b[39m \u001b[38;5;28;01mNone\u001b[39;00m:\n\u001b[1;32m    491\u001b[0m     \u001b[38;5;28;01mfor\u001b[39;00m validator \u001b[38;5;129;01min\u001b[39;00m \u001b[38;5;28mself\u001b[39m:\n\u001b[0;32m--> 492\u001b[0m         \u001b[43mvalidator\u001b[49m\u001b[38;5;241;43m.\u001b[39;49m\u001b[43mvalidate\u001b[49m\u001b[43m(\u001b[49m\n\u001b[1;32m    493\u001b[0m \u001b[43m            \u001b[49m\u001b[38;5;28;43mself\u001b[39;49m\u001b[38;5;241;43m.\u001b[39;49m\u001b[43msettings\u001b[49m\u001b[43m,\u001b[49m\n\u001b[1;32m    494\u001b[0m \u001b[43m            \u001b[49m\u001b[43monly\u001b[49m\u001b[38;5;241;43m=\u001b[39;49m\u001b[43monly\u001b[49m\u001b[43m,\u001b[49m\n\u001b[1;32m    495\u001b[0m \u001b[43m            \u001b[49m\u001b[43mexclude\u001b[49m\u001b[38;5;241;43m=\u001b[39;49m\u001b[43mexclude\u001b[49m\u001b[43m,\u001b[49m\n\u001b[1;32m    496\u001b[0m \u001b[43m            \u001b[49m\u001b[43monly_current_env\u001b[49m\u001b[38;5;241;43m=\u001b[39;49m\u001b[43monly_current_env\u001b[49m\u001b[43m,\u001b[49m\n\u001b[1;32m    497\u001b[0m \u001b[43m        \u001b[49m\u001b[43m)\u001b[49m\n",
      "File \u001b[0;32m~/.local/lib/python3.11/site-packages/dynaconf/validator.py:206\u001b[0m, in \u001b[0;36mValidator.validate\u001b[0;34m(self, settings, only, exclude, only_current_env)\u001b[0m\n\u001b[1;32m    202\u001b[0m \u001b[38;5;28;01mif\u001b[39;00m only_current_env:\n\u001b[1;32m    203\u001b[0m     \u001b[38;5;28;01mif\u001b[39;00m settings\u001b[38;5;241m.\u001b[39mcurrent_env\u001b[38;5;241m.\u001b[39mupper() \u001b[38;5;129;01min\u001b[39;00m \u001b[38;5;28mmap\u001b[39m(\n\u001b[1;32m    204\u001b[0m         \u001b[38;5;28;01mlambda\u001b[39;00m s: s\u001b[38;5;241m.\u001b[39mupper(), \u001b[38;5;28mself\u001b[39m\u001b[38;5;241m.\u001b[39menvs\n\u001b[1;32m    205\u001b[0m     ):\n\u001b[0;32m--> 206\u001b[0m         \u001b[38;5;28;43mself\u001b[39;49m\u001b[38;5;241;43m.\u001b[39;49m\u001b[43m_validate_items\u001b[49m\u001b[43m(\u001b[49m\n\u001b[1;32m    207\u001b[0m \u001b[43m            \u001b[49m\u001b[43msettings\u001b[49m\u001b[43m,\u001b[49m\u001b[43m \u001b[49m\u001b[43msettings\u001b[49m\u001b[38;5;241;43m.\u001b[39;49m\u001b[43mcurrent_env\u001b[49m\u001b[43m,\u001b[49m\u001b[43m \u001b[49m\u001b[43monly\u001b[49m\u001b[38;5;241;43m=\u001b[39;49m\u001b[43monly\u001b[49m\u001b[43m,\u001b[49m\u001b[43m \u001b[49m\u001b[43mexclude\u001b[49m\u001b[38;5;241;43m=\u001b[39;49m\u001b[43mexclude\u001b[49m\n\u001b[1;32m    208\u001b[0m \u001b[43m        \u001b[49m\u001b[43m)\u001b[49m\n\u001b[1;32m    209\u001b[0m     \u001b[38;5;28;01mreturn\u001b[39;00m\n\u001b[1;32m    211\u001b[0m \u001b[38;5;66;03m# If only using current_env, skip using_env decoration (reload)\u001b[39;00m\n",
      "File \u001b[0;32m~/.local/lib/python3.11/site-packages/dynaconf/validator.py:306\u001b[0m, in \u001b[0;36mValidator._validate_items\u001b[0;34m(self, settings, env, only, exclude)\u001b[0m\n\u001b[1;32m    299\u001b[0m     \u001b[38;5;28;01mif\u001b[39;00m \u001b[38;5;129;01mnot\u001b[39;00m \u001b[38;5;28mself\u001b[39m\u001b[38;5;241m.\u001b[39mcondition(value):\n\u001b[1;32m    300\u001b[0m         _message \u001b[38;5;241m=\u001b[39m \u001b[38;5;28mself\u001b[39m\u001b[38;5;241m.\u001b[39mmessages[\u001b[38;5;124m\"\u001b[39m\u001b[38;5;124mcondition\u001b[39m\u001b[38;5;124m\"\u001b[39m]\u001b[38;5;241m.\u001b[39mformat(\n\u001b[1;32m    301\u001b[0m             name\u001b[38;5;241m=\u001b[39mname,\n\u001b[1;32m    302\u001b[0m             function\u001b[38;5;241m=\u001b[39m\u001b[38;5;28mself\u001b[39m\u001b[38;5;241m.\u001b[39mcondition\u001b[38;5;241m.\u001b[39m\u001b[38;5;18m__name__\u001b[39m,\n\u001b[1;32m    303\u001b[0m             value\u001b[38;5;241m=\u001b[39mvalue,\n\u001b[1;32m    304\u001b[0m             env\u001b[38;5;241m=\u001b[39menv,\n\u001b[1;32m    305\u001b[0m         )\n\u001b[0;32m--> 306\u001b[0m         \u001b[38;5;28;01mraise\u001b[39;00m ValidationError(_message, details\u001b[38;5;241m=\u001b[39m[(\u001b[38;5;28mself\u001b[39m, _message)])\n\u001b[1;32m    308\u001b[0m \u001b[38;5;66;03m# operations\u001b[39;00m\n\u001b[1;32m    309\u001b[0m \u001b[38;5;28;01mfor\u001b[39;00m op_name, op_value \u001b[38;5;129;01min\u001b[39;00m \u001b[38;5;28mself\u001b[39m\u001b[38;5;241m.\u001b[39moperations\u001b[38;5;241m.\u001b[39mitems():\n",
      "\u001b[0;31mValidationError\u001b[0m: mysql_main_database invalid for __validate_db_name(anyname -- test) in env DEVELOPMENT"
     ]
    }
   ],
   "source": [
    "from dynaconf import Dynaconf, Validator\n",
    "import re\n",
    "\n",
    "# Custom validator function to check for prevent SQL injection\n",
    "def __validate_db_name(value) -> bool:\n",
    "    \"\"\"\n",
    "    >>> __validate_db_name(\"test\")\n",
    "    True\n",
    "    >>> __validate_db_name(\"test12\")\n",
    "    True\n",
    "    >>> __validate_db_name(\"sql -- injection\")\n",
    "    False\n",
    "    >>> __validate_db_name(\"test.test\")\n",
    "    False\n",
    "    >>> __validate_db_name(\"test.test\")\n",
    "    False\n",
    "    \"\"\"\n",
    "    return bool(re.match(\"^[^0-9][a-zA-Z0-9_]{2,62}$\", value))\n",
    "\n",
    "\n",
    "# Add the custom validator to your Dynaconf configuration\n",
    "db_config = Dynaconf(\n",
    "    settings_files=[\"db_config.toml\"],\n",
    "    envvar_prefix=\"DCHROAMKIT\",\n",
    "    environments=True,\n",
    "    default_env=\"testing\",\n",
    "    validate_only_current_env=True,\n",
    "    # Validators\n",
    "    validators=[\n",
    "        Validator(\"mysql_main_database\", must_exist=True, condition=__validate_db_name),\n",
    "        Validator(\"mysql_tapdb_database\", must_exist=True, condition=__validate_db_name),\n",
    "    ],\n",
    ")\n",
    "\n",
    "print(db_config.mysql_main_database)\n"
   ]
  }
 ],
 "metadata": {
  "kernelspec": {
   "display_name": "Python 3",
   "language": "python",
   "name": "python3"
  },
  "language_info": {
   "codemirror_mode": {
    "name": "ipython",
    "version": 3
   },
   "file_extension": ".py",
   "mimetype": "text/x-python",
   "name": "python",
   "nbconvert_exporter": "python",
   "pygments_lexer": "ipython3",
   "version": "3.11.4"
  }
 },
 "nbformat": 4,
 "nbformat_minor": 2
}
