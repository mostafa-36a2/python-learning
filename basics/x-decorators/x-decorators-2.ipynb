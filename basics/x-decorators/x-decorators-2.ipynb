{
 "cells": [
  {
   "cell_type": "code",
   "execution_count": 22,
   "metadata": {},
   "outputs": [
    {
     "data": {
      "text/plain": [
       "'------ Amazing test ------'"
      ]
     },
     "execution_count": 22,
     "metadata": {},
     "output_type": "execute_result"
    }
   ],
   "source": [
    "def wrapper(foo):\n",
    "    \n",
    "    def new_function(x):\n",
    "        return f\"------ {foo(x)} ------\"\n",
    "    \n",
    "    return new_function\n",
    "\n",
    "\n",
    "def func(a):\n",
    "    return f\"Number is {a}\"\n",
    "\n",
    "# Syntax 1\n",
    "def func2(a):\n",
    "    return f\"Amazing {a}\"\n",
    "\n",
    "func2 = wrapper(func2)\n",
    "\n",
    "func2(\"test\")\n"
   ]
  },
  {
   "cell_type": "code",
   "execution_count": 24,
   "metadata": {},
   "outputs": [
    {
     "data": {
      "text/plain": [
       "'------ Amazing test ------'"
      ]
     },
     "execution_count": 24,
     "metadata": {},
     "output_type": "execute_result"
    }
   ],
   "source": [
    "\n",
    "# Syntax 2\n",
    "@wrapper\n",
    "def func2(a):\n",
    "    return f\"Amazing {a}\"\n",
    "\n",
    "\n",
    "func2(\"test\")"
   ]
  },
  {
   "cell_type": "code",
   "execution_count": 34,
   "metadata": {},
   "outputs": [
    {
     "data": {
      "text/plain": [
       "3"
      ]
     },
     "execution_count": 34,
     "metadata": {},
     "output_type": "execute_result"
    }
   ],
   "source": [
    "def add(a,b):\n",
    "    return a+b\n",
    "\n",
    "add(1,2)"
   ]
  },
  {
   "cell_type": "code",
   "execution_count": 35,
   "metadata": {},
   "outputs": [
    {
     "data": {
      "text/plain": [
       "6"
      ]
     },
     "execution_count": 35,
     "metadata": {},
     "output_type": "execute_result"
    }
   ],
   "source": [
    "def mul(a,b):\n",
    "    return a*b\n",
    "\n",
    "mul(2,3)"
   ]
  },
  {
   "cell_type": "code",
   "execution_count": 39,
   "metadata": {},
   "outputs": [],
   "source": [
    "def decorator(func):\n",
    "\n",
    "    def wrapper(*args, **kwargs):\n",
    "        res = func(*args,**kwargs)\n",
    "        return res+1\n",
    "    \n",
    "    return wrapper"
   ]
  },
  {
   "cell_type": "code",
   "execution_count": 40,
   "metadata": {},
   "outputs": [],
   "source": [
    "modified_add = decorator(add)\n",
    "modified_mul = decorator(mul)"
   ]
  },
  {
   "cell_type": "code",
   "execution_count": 41,
   "metadata": {},
   "outputs": [
    {
     "name": "stdout",
     "output_type": "stream",
     "text": [
      "3\n",
      "6\n",
      "4\n",
      "7\n"
     ]
    }
   ],
   "source": [
    "print(add(1,2))\n",
    "print(mul(2,3))\n",
    "\n",
    "print(modified_add(1,2))\n",
    "print(modified_mul(2,3))"
   ]
  },
  {
   "cell_type": "code",
   "execution_count": 43,
   "metadata": {},
   "outputs": [
    {
     "data": {
      "text/plain": [
       "280969"
      ]
     },
     "execution_count": 43,
     "metadata": {},
     "output_type": "execute_result"
    }
   ],
   "source": [
    "@decorator\n",
    "def super_function(a,b,c,d,e,f):\n",
    "    return a**b + c**d + e**f\n",
    "\n",
    "super_function(2,3,4,5,6,7) # 280968"
   ]
  },
  {
   "cell_type": "code",
   "execution_count": 53,
   "metadata": {},
   "outputs": [
    {
     "name": "stdout",
     "output_type": "stream",
     "text": [
      "We have got the following args: (2, 3, '4', 5, 6, 7)\n",
      "Oh, we have got an exception\n",
      "We have the following result 0\n"
     ]
    },
    {
     "data": {
      "text/plain": [
       "5"
      ]
     },
     "execution_count": 53,
     "metadata": {},
     "output_type": "execute_result"
    }
   ],
   "source": [
    "def decorator(what_to_add):\n",
    "    \n",
    "    def inner_decorator(func):\n",
    "        def wrapper(*args, **kwargs):\n",
    "            print(f\"We have got the following args: {args}\")\n",
    "            try:\n",
    "                res = func(*args,**kwargs)\n",
    "            except Exception as e:\n",
    "                print(\"Oh, we have got an exception\")\n",
    "                res = 0\n",
    "            print(f\"We have the following result {res}\")\n",
    "            return res+what_to_add\n",
    "    \n",
    "        return wrapper\n",
    "    return inner_decorator\n",
    "\n",
    "@decorator(5)\n",
    "def super_function(a,b,c,d,e,f):\n",
    "    return a**b + c**d + e**f\n",
    "\n",
    "# @decorator(5)\n",
    "# def bad_function(a,b,c):\n",
    "#     assert a==b==c\n",
    "    \n",
    "super_function(2,3,\"4\",5,6,7) # 280968"
   ]
  },
  {
   "cell_type": "markdown",
   "metadata": {},
   "source": [
    "# Decorators\n",
    "\n",
    "- item\n",
    "- item"
   ]
  }
 ],
 "metadata": {
  "kernelspec": {
   "display_name": "Python 3",
   "language": "python",
   "name": "python3"
  },
  "language_info": {
   "codemirror_mode": {
    "name": "ipython",
    "version": 3
   },
   "file_extension": ".py",
   "mimetype": "text/x-python",
   "name": "python",
   "nbconvert_exporter": "python",
   "pygments_lexer": "ipython3",
   "version": "3.11.4"
  }
 },
 "nbformat": 4,
 "nbformat_minor": 2
}
